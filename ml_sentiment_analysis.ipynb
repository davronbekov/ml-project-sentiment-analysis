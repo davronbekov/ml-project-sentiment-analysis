{
  "nbformat": 4,
  "nbformat_minor": 0,
  "metadata": {
    "colab": {
      "provenance": []
    },
    "kernelspec": {
      "name": "python3",
      "display_name": "Python 3"
    },
    "language_info": {
      "name": "python"
    },
    "accelerator": "GPU",
    "gpuClass": "standard"
  },
  "cells": [
    {
      "cell_type": "code",
      "execution_count": 28,
      "metadata": {
        "id": "O1r7Vu7_1xdb"
      },
      "outputs": [],
      "source": [
        "                                                                                                                                                                                                                                                                                                                                                                                                                                                                                                                                                                                                                                                                                                                                                                                                                                                                                                                                                                                                                                                                                                                                                                                                                                                                                                                                                                                                                                                                                                                                                                                                                                                                                                                                                                                                                                                                                                                                                                                                                                                                                                                                                                                                                                                                                                                                                                                                                                                                                                                                                                                                                                                                                                                                                                                                                                                                                                                                                                                                                                                                                                                                                                                                                                                                                                                                                                                                                                                                                                                                                                                                                                                                                                                                                                                                                                                                                                                                                                                                                                                                                                                                                                                                                                                                                                                                                                                                                                                                                                                                                                                                                                                                                                                                                                                                                                                                                                                                                                                                                                                            import numpy as np\n",
        "import pandas as pd\n",
        "\n",
        "import tensorflow as tf\n",
        "from tensorflow import keras\n",
        "\n",
        "from sklearn.model_selection import train_test_split\n",
        "\n",
        "from keras.preprocessing.text import Tokenizer\n",
        "from keras.utils import pad_sequences, to_categorical\n",
        "from keras.models import Sequential\n",
        "from keras.layers import Dense, Dropout, Activation, SimpleRNN\n",
        "from keras import optimizers\n",
        "from keras.wrappers.scikit_learn import KerasClassifier\n",
        "\n",
        "from sklearn.metrics import accuracy_score\n",
        "\n",
        "import seaborn as sns"
      ]
    },
    {
      "cell_type": "code",
      "source": [
        "# from google.colab import drive\n",
        "# drive.mount('/content/drive')\n",
        "# reviews = pd.read_csv('/content/drive/MyDrive/Colab Notebooks/yelp.csv')\n",
        "# reviews.head(2)"
      ],
      "metadata": {
        "id": "Eqt4mokaCRHa"
      },
      "execution_count": 29,
      "outputs": []
    },
    {
      "cell_type": "code",
      "source": [
        "reviews = pd.read_csv('yelp.csv')\n",
        "reviews.head(2)"
      ],
      "metadata": {
        "id": "_ffCcO-U3iqL",
        "colab": {
          "base_uri": "https://localhost:8080/",
          "height": 191
        },
        "outputId": "41ab23f0-8b91-49ca-b668-37236c629b67"
      },
      "execution_count": 30,
      "outputs": [
        {
          "output_type": "execute_result",
          "data": {
            "text/plain": [
              "              business_id        date               review_id  stars  \\\n",
              "0  9yKzy9PApeiPPOUJEtnvkg  2011-01-26  fWKvX83p0-ka4JS3dc6E5A      5   \n",
              "1  ZRJwVLyzEJq1VAihDhYiow  2011-07-27  IjZ33sJrzXqU-0X6U8NwyA      5   \n",
              "\n",
              "                                                text    type  \\\n",
              "0  My wife took me here on my birthday for breakf...  review   \n",
              "1  I have no idea why some people give bad review...  review   \n",
              "\n",
              "                  user_id  cool  useful  funny  \n",
              "0  rLtl8ZkDX5vH5nAx9C3q5Q     2       5      0  \n",
              "1  0a2KyEL0d3Yb1V6aivbIuQ     0       0      0  "
            ],
            "text/html": [
              "\n",
              "  <div id=\"df-9342fef4-d86c-48cd-af4e-bd97380a3fc4\">\n",
              "    <div class=\"colab-df-container\">\n",
              "      <div>\n",
              "<style scoped>\n",
              "    .dataframe tbody tr th:only-of-type {\n",
              "        vertical-align: middle;\n",
              "    }\n",
              "\n",
              "    .dataframe tbody tr th {\n",
              "        vertical-align: top;\n",
              "    }\n",
              "\n",
              "    .dataframe thead th {\n",
              "        text-align: right;\n",
              "    }\n",
              "</style>\n",
              "<table border=\"1\" class=\"dataframe\">\n",
              "  <thead>\n",
              "    <tr style=\"text-align: right;\">\n",
              "      <th></th>\n",
              "      <th>business_id</th>\n",
              "      <th>date</th>\n",
              "      <th>review_id</th>\n",
              "      <th>stars</th>\n",
              "      <th>text</th>\n",
              "      <th>type</th>\n",
              "      <th>user_id</th>\n",
              "      <th>cool</th>\n",
              "      <th>useful</th>\n",
              "      <th>funny</th>\n",
              "    </tr>\n",
              "  </thead>\n",
              "  <tbody>\n",
              "    <tr>\n",
              "      <th>0</th>\n",
              "      <td>9yKzy9PApeiPPOUJEtnvkg</td>\n",
              "      <td>2011-01-26</td>\n",
              "      <td>fWKvX83p0-ka4JS3dc6E5A</td>\n",
              "      <td>5</td>\n",
              "      <td>My wife took me here on my birthday for breakf...</td>\n",
              "      <td>review</td>\n",
              "      <td>rLtl8ZkDX5vH5nAx9C3q5Q</td>\n",
              "      <td>2</td>\n",
              "      <td>5</td>\n",
              "      <td>0</td>\n",
              "    </tr>\n",
              "    <tr>\n",
              "      <th>1</th>\n",
              "      <td>ZRJwVLyzEJq1VAihDhYiow</td>\n",
              "      <td>2011-07-27</td>\n",
              "      <td>IjZ33sJrzXqU-0X6U8NwyA</td>\n",
              "      <td>5</td>\n",
              "      <td>I have no idea why some people give bad review...</td>\n",
              "      <td>review</td>\n",
              "      <td>0a2KyEL0d3Yb1V6aivbIuQ</td>\n",
              "      <td>0</td>\n",
              "      <td>0</td>\n",
              "      <td>0</td>\n",
              "    </tr>\n",
              "  </tbody>\n",
              "</table>\n",
              "</div>\n",
              "      <button class=\"colab-df-convert\" onclick=\"convertToInteractive('df-9342fef4-d86c-48cd-af4e-bd97380a3fc4')\"\n",
              "              title=\"Convert this dataframe to an interactive table.\"\n",
              "              style=\"display:none;\">\n",
              "        \n",
              "  <svg xmlns=\"http://www.w3.org/2000/svg\" height=\"24px\"viewBox=\"0 0 24 24\"\n",
              "       width=\"24px\">\n",
              "    <path d=\"M0 0h24v24H0V0z\" fill=\"none\"/>\n",
              "    <path d=\"M18.56 5.44l.94 2.06.94-2.06 2.06-.94-2.06-.94-.94-2.06-.94 2.06-2.06.94zm-11 1L8.5 8.5l.94-2.06 2.06-.94-2.06-.94L8.5 2.5l-.94 2.06-2.06.94zm10 10l.94 2.06.94-2.06 2.06-.94-2.06-.94-.94-2.06-.94 2.06-2.06.94z\"/><path d=\"M17.41 7.96l-1.37-1.37c-.4-.4-.92-.59-1.43-.59-.52 0-1.04.2-1.43.59L10.3 9.45l-7.72 7.72c-.78.78-.78 2.05 0 2.83L4 21.41c.39.39.9.59 1.41.59.51 0 1.02-.2 1.41-.59l7.78-7.78 2.81-2.81c.8-.78.8-2.07 0-2.86zM5.41 20L4 18.59l7.72-7.72 1.47 1.35L5.41 20z\"/>\n",
              "  </svg>\n",
              "      </button>\n",
              "      \n",
              "  <style>\n",
              "    .colab-df-container {\n",
              "      display:flex;\n",
              "      flex-wrap:wrap;\n",
              "      gap: 12px;\n",
              "    }\n",
              "\n",
              "    .colab-df-convert {\n",
              "      background-color: #E8F0FE;\n",
              "      border: none;\n",
              "      border-radius: 50%;\n",
              "      cursor: pointer;\n",
              "      display: none;\n",
              "      fill: #1967D2;\n",
              "      height: 32px;\n",
              "      padding: 0 0 0 0;\n",
              "      width: 32px;\n",
              "    }\n",
              "\n",
              "    .colab-df-convert:hover {\n",
              "      background-color: #E2EBFA;\n",
              "      box-shadow: 0px 1px 2px rgba(60, 64, 67, 0.3), 0px 1px 3px 1px rgba(60, 64, 67, 0.15);\n",
              "      fill: #174EA6;\n",
              "    }\n",
              "\n",
              "    [theme=dark] .colab-df-convert {\n",
              "      background-color: #3B4455;\n",
              "      fill: #D2E3FC;\n",
              "    }\n",
              "\n",
              "    [theme=dark] .colab-df-convert:hover {\n",
              "      background-color: #434B5C;\n",
              "      box-shadow: 0px 1px 3px 1px rgba(0, 0, 0, 0.15);\n",
              "      filter: drop-shadow(0px 1px 2px rgba(0, 0, 0, 0.3));\n",
              "      fill: #FFFFFF;\n",
              "    }\n",
              "  </style>\n",
              "\n",
              "      <script>\n",
              "        const buttonEl =\n",
              "          document.querySelector('#df-9342fef4-d86c-48cd-af4e-bd97380a3fc4 button.colab-df-convert');\n",
              "        buttonEl.style.display =\n",
              "          google.colab.kernel.accessAllowed ? 'block' : 'none';\n",
              "\n",
              "        async function convertToInteractive(key) {\n",
              "          const element = document.querySelector('#df-9342fef4-d86c-48cd-af4e-bd97380a3fc4');\n",
              "          const dataTable =\n",
              "            await google.colab.kernel.invokeFunction('convertToInteractive',\n",
              "                                                     [key], {});\n",
              "          if (!dataTable) return;\n",
              "\n",
              "          const docLinkHtml = 'Like what you see? Visit the ' +\n",
              "            '<a target=\"_blank\" href=https://colab.research.google.com/notebooks/data_table.ipynb>data table notebook</a>'\n",
              "            + ' to learn more about interactive tables.';\n",
              "          element.innerHTML = '';\n",
              "          dataTable['output_type'] = 'display_data';\n",
              "          await google.colab.output.renderOutput(dataTable, element);\n",
              "          const docLink = document.createElement('div');\n",
              "          docLink.innerHTML = docLinkHtml;\n",
              "          element.appendChild(docLink);\n",
              "        }\n",
              "      </script>\n",
              "    </div>\n",
              "  </div>\n",
              "  "
            ]
          },
          "metadata": {},
          "execution_count": 30
        }
      ]
    },
    {
      "cell_type": "code",
      "source": [],
      "metadata": {
        "id": "trO7zDScCNKW"
      },
      "execution_count": 30,
      "outputs": []
    },
    {
      "cell_type": "code",
      "source": [
        "reviews['text'][0]"
      ],
      "metadata": {
        "id": "EUF0eFxb3rS4",
        "colab": {
          "base_uri": "https://localhost:8080/",
          "height": 143
        },
        "outputId": "b0b0b860-86f2-470d-8ebb-cf2cb2ec3e16"
      },
      "execution_count": 31,
      "outputs": [
        {
          "output_type": "execute_result",
          "data": {
            "text/plain": [
              "'My wife took me here on my birthday for breakfast and it was excellent.  The weather was perfect which made sitting outside overlooking their grounds an absolute pleasure.  Our waitress was excellent and our food arrived quickly on the semi-busy Saturday morning.  It looked like the place fills up pretty quickly so the earlier you get here the better.\\n\\nDo yourself a favor and get their Bloody Mary.  It was phenomenal and simply the best I\\'ve ever had.  I\\'m pretty sure they only use ingredients from their garden and blend them fresh when you order it.  It was amazing.\\n\\nWhile EVERYTHING on the menu looks excellent, I had the white truffle scrambled eggs vegetable skillet and it was tasty and delicious.  It came with 2 pieces of their griddled bread with was amazing and it absolutely made the meal complete.  It was the best \"toast\" I\\'ve ever had.\\n\\nAnyway, I can\\'t wait to go back!'"
            ],
            "application/vnd.google.colaboratory.intrinsic+json": {
              "type": "string"
            }
          },
          "metadata": {},
          "execution_count": 31
        }
      ]
    },
    {
      "cell_type": "code",
      "source": [
        "reviews['stars'].value_counts()"
      ],
      "metadata": {
        "id": "-AMGfJWz3yfY",
        "colab": {
          "base_uri": "https://localhost:8080/"
        },
        "outputId": "0293469f-cf50-4bc2-8abe-7ce4d423afac"
      },
      "execution_count": 32,
      "outputs": [
        {
          "output_type": "execute_result",
          "data": {
            "text/plain": [
              "4    3526\n",
              "5    3337\n",
              "3    1461\n",
              "2     927\n",
              "1     749\n",
              "Name: stars, dtype: int64"
            ]
          },
          "metadata": {},
          "execution_count": 32
        }
      ]
    },
    {
      "cell_type": "code",
      "source": [
        "reviews['stars'].value_counts().plot(kind='bar')"
      ],
      "metadata": {
        "id": "ctkYbZlo4n-K",
        "colab": {
          "base_uri": "https://localhost:8080/",
          "height": 443
        },
        "outputId": "c22d4404-4703-4686-c3b1-31b524b3481a"
      },
      "execution_count": 33,
      "outputs": [
        {
          "output_type": "execute_result",
          "data": {
            "text/plain": [
              "<Axes: >"
            ]
          },
          "metadata": {},
          "execution_count": 33
        },
        {
          "output_type": "display_data",
          "data": {
            "text/plain": [
              "<Figure size 640x480 with 1 Axes>"
            ],
            "image/png": "[encoded data removed]"
          },
          "metadata": {}
        }
      ]
    },
    {
      "cell_type": "markdown",
      "source": [
        "all stars 4 and 5 are positive, others are negative\n"
      ],
      "metadata": {
        "id": "qmWvc0QJZQbp"
      }
    },
    {
      "cell_type": "code",
      "source": [
        "reviews['stars'] = np.where(reviews['stars'] >= 4, 1, 0)"
      ],
      "metadata": {
        "id": "lDowBXHgWfUk"
      },
      "execution_count": 36,
      "outputs": []
    },
    {
      "cell_type": "code",
      "source": [
        "reviews['stars'].value_counts().plot(kind='bar')"
      ],
      "metadata": {
        "id": "OyH1TGJjZEij",
        "colab": {
          "base_uri": "https://localhost:8080/",
          "height": 443
        },
        "outputId": "860c04b9-b9ae-4205-c152-2ffae92a5dcb"
      },
      "execution_count": 37,
      "outputs": [
        {
          "output_type": "execute_result",
          "data": {
            "text/plain": [
              "<Axes: >"
            ]
          },
          "metadata": {},
          "execution_count": 37
        },
        {
          "output_type": "display_data",
          "data": {
            "text/plain": [
              "<Figure size 640x480 with 1 Axes>"
            ],
            "image/png": "[encoded data removed]"
          },
          "metadata": {}
        }
      ]
    },
    {
      "cell_type": "markdown",
      "source": [
        "removing some items to make 6000 positive reviews\n"
      ],
      "metadata": {
        "id": "3SSMU68SZZi4"
      }
    },
    {
      "cell_type": "code",
      "source": [
        "reviews['stars'].value_counts()"
      ],
      "metadata": {
        "id": "90jVft7gYRhM",
        "colab": {
          "base_uri": "https://localhost:8080/"
        },
        "outputId": "c7bcbc3d-5a68-4be6-d75c-8c1d45156a13"
      },
      "execution_count": 38,
      "outputs": [
        {
          "output_type": "execute_result",
          "data": {
            "text/plain": [
              "1    6863\n",
              "0    3137\n",
              "Name: stars, dtype: int64"
            ]
          },
          "metadata": {},
          "execution_count": 38
        }
      ]
    },
    {
      "cell_type": "code",
      "source": [
        "reviews = reviews.drop(reviews[reviews.stars == 1].iloc[:863].index)"
      ],
      "metadata": {
        "id": "xXDW-qvxZxVs"
      },
      "execution_count": 39,
      "outputs": []
    },
    {
      "cell_type": "code",
      "source": [
        "max_features = 6000\n",
        "# we will use the Tokenizer class: create a word-to-index dictionary. In the word-to-index dictionary\n",
        "tokenizer = Tokenizer(num_words=max_features, split = ' ')\n",
        "tokenizer.fit_on_texts(reviews['text'].values)\n",
        "\n",
        "#to convert sentences into vector /numbers\n",
        "x = tokenizer.texts_to_sequences(reviews['text'].values)\n",
        "x = pad_sequences(x)\n",
        "\n",
        "y = reviews['stars']"
      ],
      "metadata": {
        "id": "TkD_4G5YYNKz"
      },
      "execution_count": 41,
      "outputs": []
    },
    {
      "cell_type": "code",
      "source": [
        "x_train, x_test, y_train, y_test = train_test_split(\n",
        "    x, y, test_size=0.3, random_state=42, shuffle=True\n",
        ")\n"
      ],
      "metadata": {
        "id": "m0P_xjVECB2C"
      },
      "execution_count": 42,
      "outputs": []
    },
    {
      "cell_type": "code",
      "source": [
        "print(\"shape of X_train:\", x_train.shape)\n",
        "print(\"shape of X_test:\", x_test.shape)"
      ],
      "metadata": {
        "id": "6TTu96yHCFUB",
        "colab": {
          "base_uri": "https://localhost:8080/"
        },
        "outputId": "91b8e648-177e-4380-96c5-345d28e86f76"
      },
      "execution_count": 43,
      "outputs": [
        {
          "output_type": "stream",
          "name": "stdout",
          "text": [
            "shape of X_train: (6395, 927)\n",
            "shape of X_test: (2742, 927)\n"
          ]
        }
      ]
    },
    {
      "cell_type": "code",
      "source": [
        "print(\"shape of y_train:\", y_train.shape)\n",
        "print(\"shape of y_test:\", y_test.shape)"
      ],
      "metadata": {
        "id": "UuzGoJmeDlbh",
        "colab": {
          "base_uri": "https://localhost:8080/"
        },
        "outputId": "583e5f3d-26cf-450a-9d98-5a134cafee37"
      },
      "execution_count": 44,
      "outputs": [
        {
          "output_type": "stream",
          "name": "stdout",
          "text": [
            "shape of y_train: (6395,)\n",
            "shape of y_test: (2742,)\n"
          ]
        }
      ]
    },
    {
      "cell_type": "code",
      "source": [
        "#Create RNN model\n",
        "embed_dim = 128\n",
        "lstm_out = 196\n",
        "model = tf.keras.models.Sequential()\n",
        "model.add(tf.keras.layers.Embedding(max_features, 128, input_length=x_train.shape[1]))\n",
        "model.add(tf.keras.layers.SpatialDropout1D(0.5))\n",
        "model.add(tf.keras.layers.LSTM(196))\n",
        "model.add(tf.keras.layers.Dropout(0.2))\n",
        "model.add(tf.keras.layers.Dense(100, activation = tf.nn.relu))\n",
        "model.add(tf.keras.layers.Dropout(0.4))\n",
        "model.add(tf.keras.layers.Dense(2, activation = tf.nn.softmax))\n",
        "  "
      ],
      "metadata": {
        "id": "0j7UgV4pXdgz"
      },
      "execution_count": 45,
      "outputs": []
    },
    {
      "cell_type": "code",
      "source": [
        "model.summary()\n"
      ],
      "metadata": {
        "id": "4H6dGZ7LZdAB",
        "colab": {
          "base_uri": "https://localhost:8080/"
        },
        "outputId": "471abe2a-b5c6-471f-c48b-bfbced786057"
      },
      "execution_count": 46,
      "outputs": [
        {
          "output_type": "stream",
          "name": "stdout",
          "text": [
            "Model: \"sequential_1\"\n",
            "_________________________________________________________________\n",
            " Layer (type)                Output Shape              Param #   \n",
            "=================================================================\n",
            " embedding_1 (Embedding)     (None, 927, 128)          768000    \n",
            "                                                                 \n",
            " spatial_dropout1d_1 (Spatia  (None, 927, 128)         0         \n",
            " lDropout1D)                                                     \n",
            "                                                                 \n",
            " lstm_1 (LSTM)               (None, 196)               254800    \n",
            "                                                                 \n",
            " dropout_2 (Dropout)         (None, 196)               0         \n",
            "                                                                 \n",
            " dense_2 (Dense)             (None, 100)               19700     \n",
            "                                                                 \n",
            " dropout_3 (Dropout)         (None, 100)               0         \n",
            "                                                                 \n",
            " dense_3 (Dense)             (None, 2)                 202       \n",
            "                                                                 \n",
            "=================================================================\n",
            "Total params: 1,042,702\n",
            "Trainable params: 1,042,702\n",
            "Non-trainable params: 0\n",
            "_________________________________________________________________\n"
          ]
        }
      ]
    },
    {
      "cell_type": "code",
      "source": [
        "model.compile(optimizer=\"adam\", loss=\"sparse_categorical_crossentropy\", metrics=[\"accuracy\"])"
      ],
      "metadata": {
        "id": "v4VTgV5LJVtK"
      },
      "execution_count": 47,
      "outputs": []
    },
    {
      "cell_type": "code",
      "source": [
        "from keras.callbacks import EarlyStopping\n",
        "\n",
        "early_callback = EarlyStopping(monitor='loss', patience=3)"
      ],
      "metadata": {
        "id": "vWoccRi-1XyM"
      },
      "execution_count": 48,
      "outputs": []
    },
    {
      "cell_type": "code",
      "source": [
        "model.fit(x_train, y_train, validation_split = 0.2, verbose = 2, callbacks=[early_callback], epochs=30 , batch_size=32)"
      ],
      "metadata": {
        "id": "bzjfPvPsZpCm",
        "colab": {
          "base_uri": "https://localhost:8080/"
        },
        "outputId": "1b95788d-32e1-4d4b-f351-8d3d55fded5d"
      },
      "execution_count": 49,
      "outputs": [
        {
          "output_type": "stream",
          "name": "stdout",
          "text": [
            "Epoch 1/30\n",
            "160/160 - 32s - loss: 0.6146 - accuracy: 0.6761 - val_loss: 0.5075 - val_accuracy: 0.7826 - 32s/epoch - 201ms/step\n",
            "Epoch 2/30\n",
            "160/160 - 22s - loss: 0.4275 - accuracy: 0.8077 - val_loss: 0.4164 - val_accuracy: 0.8116 - 22s/epoch - 137ms/step\n",
            "Epoch 3/30\n",
            "160/160 - 15s - loss: 0.3042 - accuracy: 0.8794 - val_loss: 0.4036 - val_accuracy: 0.8186 - 15s/epoch - 91ms/step\n",
            "Epoch 4/30\n",
            "160/160 - 15s - loss: 0.2093 - accuracy: 0.9189 - val_loss: 0.4462 - val_accuracy: 0.8100 - 15s/epoch - 95ms/step\n",
            "Epoch 5/30\n",
            "160/160 - 12s - loss: 0.1613 - accuracy: 0.9386 - val_loss: 0.7092 - val_accuracy: 0.8124 - 12s/epoch - 75ms/step\n",
            "Epoch 6/30\n",
            "160/160 - 13s - loss: 0.1051 - accuracy: 0.9636 - val_loss: 0.6543 - val_accuracy: 0.7787 - 13s/epoch - 79ms/step\n",
            "Epoch 7/30\n",
            "160/160 - 12s - loss: 0.1227 - accuracy: 0.9554 - val_loss: 0.6933 - val_accuracy: 0.7537 - 12s/epoch - 74ms/step\n",
            "Epoch 8/30\n",
            "160/160 - 10s - loss: 0.0947 - accuracy: 0.9638 - val_loss: 0.8234 - val_accuracy: 0.8045 - 10s/epoch - 65ms/step\n",
            "Epoch 9/30\n",
            "160/160 - 9s - loss: 0.0627 - accuracy: 0.9789 - val_loss: 0.8360 - val_accuracy: 0.7842 - 9s/epoch - 59ms/step\n",
            "Epoch 10/30\n",
            "160/160 - 8s - loss: 0.0433 - accuracy: 0.9846 - val_loss: 1.0809 - val_accuracy: 0.7733 - 8s/epoch - 51ms/step\n",
            "Epoch 11/30\n",
            "160/160 - 9s - loss: 0.0428 - accuracy: 0.9855 - val_loss: 0.9658 - val_accuracy: 0.7764 - 9s/epoch - 59ms/step\n",
            "Epoch 12/30\n",
            "160/160 - 10s - loss: 0.0359 - accuracy: 0.9879 - val_loss: 1.0080 - val_accuracy: 0.7748 - 10s/epoch - 63ms/step\n",
            "Epoch 13/30\n",
            "160/160 - 10s - loss: 0.0370 - accuracy: 0.9844 - val_loss: 1.0405 - val_accuracy: 0.7936 - 10s/epoch - 65ms/step\n",
            "Epoch 14/30\n",
            "160/160 - 9s - loss: 0.0238 - accuracy: 0.9920 - val_loss: 1.5651 - val_accuracy: 0.8053 - 9s/epoch - 54ms/step\n",
            "Epoch 15/30\n",
            "160/160 - 8s - loss: 0.0485 - accuracy: 0.9840 - val_loss: 1.2174 - val_accuracy: 0.7928 - 8s/epoch - 52ms/step\n",
            "Epoch 16/30\n",
            "160/160 - 9s - loss: 0.0197 - accuracy: 0.9932 - val_loss: 1.2378 - val_accuracy: 0.7905 - 9s/epoch - 56ms/step\n",
            "Epoch 17/30\n",
            "160/160 - 9s - loss: 0.0265 - accuracy: 0.9910 - val_loss: 1.4571 - val_accuracy: 0.7905 - 9s/epoch - 59ms/step\n",
            "Epoch 18/30\n",
            "160/160 - 9s - loss: 0.0299 - accuracy: 0.9902 - val_loss: 1.2167 - val_accuracy: 0.7615 - 9s/epoch - 56ms/step\n",
            "Epoch 19/30\n",
            "160/160 - 8s - loss: 0.0334 - accuracy: 0.9881 - val_loss: 1.1641 - val_accuracy: 0.7889 - 8s/epoch - 52ms/step\n"
          ]
        },
        {
          "output_type": "execute_result",
          "data": {
            "text/plain": [
              "<keras.callbacks.History at 0x7f4e54da9b50>"
            ]
          },
          "metadata": {},
          "execution_count": 49
        }
      ]
    },
    {
      "cell_type": "code",
      "source": [
        "history = model.history"
      ],
      "metadata": {
        "id": "-w2SYVlvE2-y"
      },
      "execution_count": 50,
      "outputs": []
    },
    {
      "cell_type": "code",
      "source": [
        "#To test the accuracy score\n",
        "\n",
        "y_pred = model.predict(x_test)\n",
        "y_pred_classes = np.argmax(y_pred, axis=1)\n",
        "print(accuracy_score(y_test, y_pred_classes))"
      ],
      "metadata": {
        "id": "XNc2n78GcgZq",
        "colab": {
          "base_uri": "https://localhost:8080/"
        },
        "outputId": "b27d4c5b-afd0-432f-ce84-d45bd345c8cc"
      },
      "execution_count": 51,
      "outputs": [
        {
          "output_type": "stream",
          "name": "stdout",
          "text": [
            "86/86 [==============================] - 2s 18ms/step\n",
            "0.7509117432531\n"
          ]
        }
      ]
    },
    {
      "cell_type": "code",
      "source": [
        "#Testing model on new input\n",
        "sample = \"Their service is not good\"\n",
        "sample_item = [sample]\n",
        "sample_item = tokenizer.texts_to_sequences(sample_item)\n",
        "sample_item = pad_sequences(sample_item, maxlen=len(sample) + 1)\n",
        "\n",
        "print(sample_item)\n",
        "sentiment = model.predict(sample_item,batch_size=1,verbose = 2)[0]\n",
        "\n",
        "if(np.argmax(sentiment) == 0):\n",
        "    print(\"negative\")\n",
        "elif (np.argmax(sentiment) == 1):\n",
        "    print(\"positive\")\n"
      ],
      "metadata": {
        "id": "c5NVzPDweeMd",
        "colab": {
          "base_uri": "https://localhost:8080/"
        },
        "outputId": "6e5a57cf-21b2-46ea-e7f5-c2601925899a"
      },
      "execution_count": 52,
      "outputs": [
        {
          "output_type": "stream",
          "name": "stdout",
          "text": [
            "[[ 0  0  0  0  0  0  0  0  0  0  0  0  0  0  0  0  0  0  0  0  0 45 57  9\n",
            "  22 25]]\n",
            "1/1 - 0s - 331ms/epoch - 331ms/step\n",
            "negative\n"
          ]
        }
      ]
    },
    {
      "cell_type": "code",
      "source": [
        "#Testing model on new input\n",
        "sample = \"I liked this service\"\n",
        "sample_item = [sample]\n",
        "sample_item = tokenizer.texts_to_sequences(sample_item)\n",
        "sample_item = pad_sequences(sample_item, maxlen=len(sample) + 1)\n",
        "\n",
        "print(sample_item)\n",
        "sentiment = model.predict(sample_item,batch_size=1,verbose = 2)[0]\n",
        "\n",
        "if(np.argmax(sentiment) == 0):\n",
        "    print(\"negative\")\n",
        "elif (np.argmax(sentiment) == 1):\n",
        "    print(\"positive\")\n"
      ],
      "metadata": {
        "colab": {
          "base_uri": "https://localhost:8080/"
        },
        "id": "fZ5coEPF0IpJ",
        "outputId": "2119531a-aa14-41f7-8ff5-ce4ee4769ea9"
      },
      "execution_count": 53,
      "outputs": [
        {
          "output_type": "stream",
          "name": "stdout",
          "text": [
            "[[  0   0   0   0   0   0   0   0   0   0   0   0   0   0   0   0   0   3\n",
            "  406  16  57]]\n",
            "1/1 - 0s - 19ms/epoch - 19ms/step\n",
            "positive\n"
          ]
        }
      ]
    }
  ]
}