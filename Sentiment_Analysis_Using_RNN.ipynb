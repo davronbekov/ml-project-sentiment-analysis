{
  "nbformat": 4,
  "nbformat_minor": 0,
  "metadata": {
    "colab": {
      "provenance": []
    },
    "kernelspec": {
      "name": "python3",
      "display_name": "Python 3"
    },
    "language_info": {
      "name": "python"
    },
    "accelerator": "GPU",
    "gpuClass": "standard"
  },
  "cells": [
    {
      "cell_type": "code",
      "execution_count": null,
      "metadata": {
        "id": "O1r7Vu7_1xdb"
      },
      "outputs": [],
      "source": [
        "                                                                                                                                                                                                                                                                                                                                                                                                                                                                                                                                                                                                                                                                                                                                                                                                                                                                                                                                                                                                                                                                                                                                                                                                                                                                                                                                                                                                                                                                                                                                                                                                                                                                                                                                                                                                                                                                                                                                                                                                                                                                                                                                                                                                                                                                                                                                                                                                                                                                                                                                                                                                                                                                                                                                                                                                                                                                                                                                                                                                                                                                                                                                                                                                                                                                                                                                                                                                                                                                                                                                                                                                                                                                                                                                                                                                                                                                                                                                                                                                                                                                                                                                                                                                                                                                                                                                                                                                                                                                                                                                                                                                                                                                                                                                                                                                                                                                                                                                                                                                                                                            import numpy as np\n",
        "import pandas as pd\n",
        "\n",
        "import tensorflow as tf\n",
        "from tensorflow import keras\n",
        "\n",
        "from sklearn.model_selection import train_test_split\n",
        "\n",
        "from keras.preprocessing.text import Tokenizer\n",
        "from keras.utils import pad_sequences, to_categorical\n",
        "from keras.models import Sequential\n",
        "from keras.layers import Dense, Dropout, Activation, SimpleRNN\n",
        "from keras import optimizers\n",
        "from keras.wrappers.scikit_learn import KerasClassifier\n",
        "\n",
        "from sklearn.metrics import accuracy_score\n",
        "\n",
        "import seaborn as sns"
      ]
    },
    {
      "cell_type": "code",
      "source": [
        "# from google.colab import drive\n",
        "# drive.mount('/content/drive')\n",
        "# reviews = pd.read_csv('/content/drive/MyDrive/Colab Notebooks/yelp.csv')\n",
        "# reviews.head(2)"
      ],
      "metadata": {
        "id": "Eqt4mokaCRHa",
        "colab": {
          "base_uri": "https://localhost:8080/"
        },
        "outputId": "db93388e-bc80-4f13-af56-0c77b8f05c87"
      },
      "execution_count": null,
      "outputs": [
        {
          "output_type": "stream",
          "name": "stdout",
          "text": [
            "Drive already mounted at /content/drive; to attempt to forcibly remount, call drive.mount(\"/content/drive\", force_remount=True).\n"
          ]
        }
      ]
    },
    {
      "cell_type": "code",
      "source": [
        "reviews = pd.read_csv('yelp.csv')\n",
        "reviews.head(2)"
      ],
      "metadata": {
        "id": "_ffCcO-U3iqL",
        "colab": {
          "base_uri": "https://localhost:8080/",
          "height": 112
        },
        "outputId": "c0f1f8eb-91bf-4c97-846f-a528b1550dfa"
      },
      "execution_count": null,
      "outputs": [
        {
          "output_type": "execute_result",
          "data": {
            "text/plain": [
              "              business_id        date               review_id  stars  \\\n",
              "0  9yKzy9PApeiPPOUJEtnvkg  2011-01-26  fWKvX83p0-ka4JS3dc6E5A      5   \n",
              "1  ZRJwVLyzEJq1VAihDhYiow  2011-07-27  IjZ33sJrzXqU-0X6U8NwyA      5   \n",
              "\n",
              "                                                text    type  \\\n",
              "0  My wife took me here on my birthday for breakf...  review   \n",
              "1  I have no idea why some people give bad review...  review   \n",
              "\n",
              "                  user_id  cool  useful  funny  \n",
              "0  rLtl8ZkDX5vH5nAx9C3q5Q     2       5      0  \n",
              "1  0a2KyEL0d3Yb1V6aivbIuQ     0       0      0  "
            ],
            "text/html": [
              "\n",
              "  <div id=\"df-e2717ee1-5570-4acd-8991-85bb1d371e15\">\n",
              "    <div class=\"colab-df-container\">\n",
              "      <div>\n",
              "<style scoped>\n",
              "    .dataframe tbody tr th:only-of-type {\n",
              "        vertical-align: middle;\n",
              "    }\n",
              "\n",
              "    .dataframe tbody tr th {\n",
              "        vertical-align: top;\n",
              "    }\n",
              "\n",
              "    .dataframe thead th {\n",
              "        text-align: right;\n",
              "    }\n",
              "</style>\n",
              "<table border=\"1\" class=\"dataframe\">\n",
              "  <thead>\n",
              "    <tr style=\"text-align: right;\">\n",
              "      <th></th>\n",
              "      <th>business_id</th>\n",
              "      <th>date</th>\n",
              "      <th>review_id</th>\n",
              "      <th>stars</th>\n",
              "      <th>text</th>\n",
              "      <th>type</th>\n",
              "      <th>user_id</th>\n",
              "      <th>cool</th>\n",
              "      <th>useful</th>\n",
              "      <th>funny</th>\n",
              "    </tr>\n",
              "  </thead>\n",
              "  <tbody>\n",
              "    <tr>\n",
              "      <th>0</th>\n",
              "      <td>9yKzy9PApeiPPOUJEtnvkg</td>\n",
              "      <td>2011-01-26</td>\n",
              "      <td>fWKvX83p0-ka4JS3dc6E5A</td>\n",
              "      <td>5</td>\n",
              "      <td>My wife took me here on my birthday for breakf...</td>\n",
              "      <td>review</td>\n",
              "      <td>rLtl8ZkDX5vH5nAx9C3q5Q</td>\n",
              "      <td>2</td>\n",
              "      <td>5</td>\n",
              "      <td>0</td>\n",
              "    </tr>\n",
              "    <tr>\n",
              "      <th>1</th>\n",
              "      <td>ZRJwVLyzEJq1VAihDhYiow</td>\n",
              "      <td>2011-07-27</td>\n",
              "      <td>IjZ33sJrzXqU-0X6U8NwyA</td>\n",
              "      <td>5</td>\n",
              "      <td>I have no idea why some people give bad review...</td>\n",
              "      <td>review</td>\n",
              "      <td>0a2KyEL0d3Yb1V6aivbIuQ</td>\n",
              "      <td>0</td>\n",
              "      <td>0</td>\n",
              "      <td>0</td>\n",
              "    </tr>\n",
              "  </tbody>\n",
              "</table>\n",
              "</div>\n",
              "      <button class=\"colab-df-convert\" onclick=\"convertToInteractive('df-e2717ee1-5570-4acd-8991-85bb1d371e15')\"\n",
              "              title=\"Convert this dataframe to an interactive table.\"\n",
              "              style=\"display:none;\">\n",
              "        \n",
              "  <svg xmlns=\"http://www.w3.org/2000/svg\" height=\"24px\"viewBox=\"0 0 24 24\"\n",
              "       width=\"24px\">\n",
              "    <path d=\"M0 0h24v24H0V0z\" fill=\"none\"/>\n",
              "    <path d=\"M18.56 5.44l.94 2.06.94-2.06 2.06-.94-2.06-.94-.94-2.06-.94 2.06-2.06.94zm-11 1L8.5 8.5l.94-2.06 2.06-.94-2.06-.94L8.5 2.5l-.94 2.06-2.06.94zm10 10l.94 2.06.94-2.06 2.06-.94-2.06-.94-.94-2.06-.94 2.06-2.06.94z\"/><path d=\"M17.41 7.96l-1.37-1.37c-.4-.4-.92-.59-1.43-.59-.52 0-1.04.2-1.43.59L10.3 9.45l-7.72 7.72c-.78.78-.78 2.05 0 2.83L4 21.41c.39.39.9.59 1.41.59.51 0 1.02-.2 1.41-.59l7.78-7.78 2.81-2.81c.8-.78.8-2.07 0-2.86zM5.41 20L4 18.59l7.72-7.72 1.47 1.35L5.41 20z\"/>\n",
              "  </svg>\n",
              "      </button>\n",
              "      \n",
              "  <style>\n",
              "    .colab-df-container {\n",
              "      display:flex;\n",
              "      flex-wrap:wrap;\n",
              "      gap: 12px;\n",
              "    }\n",
              "\n",
              "    .colab-df-convert {\n",
              "      background-color: #E8F0FE;\n",
              "      border: none;\n",
              "      border-radius: 50%;\n",
              "      cursor: pointer;\n",
              "      display: none;\n",
              "      fill: #1967D2;\n",
              "      height: 32px;\n",
              "      padding: 0 0 0 0;\n",
              "      width: 32px;\n",
              "    }\n",
              "\n",
              "    .colab-df-convert:hover {\n",
              "      background-color: #E2EBFA;\n",
              "      box-shadow: 0px 1px 2px rgba(60, 64, 67, 0.3), 0px 1px 3px 1px rgba(60, 64, 67, 0.15);\n",
              "      fill: #174EA6;\n",
              "    }\n",
              "\n",
              "    [theme=dark] .colab-df-convert {\n",
              "      background-color: #3B4455;\n",
              "      fill: #D2E3FC;\n",
              "    }\n",
              "\n",
              "    [theme=dark] .colab-df-convert:hover {\n",
              "      background-color: #434B5C;\n",
              "      box-shadow: 0px 1px 3px 1px rgba(0, 0, 0, 0.15);\n",
              "      filter: drop-shadow(0px 1px 2px rgba(0, 0, 0, 0.3));\n",
              "      fill: #FFFFFF;\n",
              "    }\n",
              "  </style>\n",
              "\n",
              "      <script>\n",
              "        const buttonEl =\n",
              "          document.querySelector('#df-e2717ee1-5570-4acd-8991-85bb1d371e15 button.colab-df-convert');\n",
              "        buttonEl.style.display =\n",
              "          google.colab.kernel.accessAllowed ? 'block' : 'none';\n",
              "\n",
              "        async function convertToInteractive(key) {\n",
              "          const element = document.querySelector('#df-e2717ee1-5570-4acd-8991-85bb1d371e15');\n",
              "          const dataTable =\n",
              "            await google.colab.kernel.invokeFunction('convertToInteractive',\n",
              "                                                     [key], {});\n",
              "          if (!dataTable) return;\n",
              "\n",
              "          const docLinkHtml = 'Like what you see? Visit the ' +\n",
              "            '<a target=\"_blank\" href=https://colab.research.google.com/notebooks/data_table.ipynb>data table notebook</a>'\n",
              "            + ' to learn more about interactive tables.';\n",
              "          element.innerHTML = '';\n",
              "          dataTable['output_type'] = 'display_data';\n",
              "          await google.colab.output.renderOutput(dataTable, element);\n",
              "          const docLink = document.createElement('div');\n",
              "          docLink.innerHTML = docLinkHtml;\n",
              "          element.appendChild(docLink);\n",
              "        }\n",
              "      </script>\n",
              "    </div>\n",
              "  </div>\n",
              "  "
            ]
          },
          "metadata": {},
          "execution_count": 2
        }
      ]
    },
    {
      "cell_type": "code",
      "source": [],
      "metadata": {
        "id": "trO7zDScCNKW"
      },
      "execution_count": null,
      "outputs": []
    },
    {
      "cell_type": "code",
      "source": [
        "reviews['text'][0]"
      ],
      "metadata": {
        "id": "EUF0eFxb3rS4",
        "colab": {
          "base_uri": "https://localhost:8080/",
          "height": 122
        },
        "outputId": "352ff279-ecd2-46f0-8ecf-061e0ba245f2"
      },
      "execution_count": null,
      "outputs": [
        {
          "output_type": "execute_result",
          "data": {
            "text/plain": [
              "'My wife took me here on my birthday for breakfast and it was excellent.  The weather was perfect which made sitting outside overlooking their grounds an absolute pleasure.  Our waitress was excellent and our food arrived quickly on the semi-busy Saturday morning.  It looked like the place fills up pretty quickly so the earlier you get here the better.\\n\\nDo yourself a favor and get their Bloody Mary.  It was phenomenal and simply the best I\\'ve ever had.  I\\'m pretty sure they only use ingredients from their garden and blend them fresh when you order it.  It was amazing.\\n\\nWhile EVERYTHING on the menu looks excellent, I had the white truffle scrambled eggs vegetable skillet and it was tasty and delicious.  It came with 2 pieces of their griddled bread with was amazing and it absolutely made the meal complete.  It was the best \"toast\" I\\'ve ever had.\\n\\nAnyway, I can\\'t wait to go back!'"
            ],
            "application/vnd.google.colaboratory.intrinsic+json": {
              "type": "string"
            }
          },
          "metadata": {},
          "execution_count": 3
        }
      ]
    },
    {
      "cell_type": "code",
      "source": [
        "reviews['stars'].value_counts()"
      ],
      "metadata": {
        "id": "-AMGfJWz3yfY",
        "colab": {
          "base_uri": "https://localhost:8080/"
        },
        "outputId": "fd34b626-6673-48ec-ce0e-dfbda102a3cc"
      },
      "execution_count": null,
      "outputs": [
        {
          "output_type": "execute_result",
          "data": {
            "text/plain": [
              "4    3526\n",
              "5    3337\n",
              "3    1461\n",
              "2     927\n",
              "1     749\n",
              "Name: stars, dtype: int64"
            ]
          },
          "metadata": {},
          "execution_count": 4
        }
      ]
    },
    {
      "cell_type": "code",
      "source": [
        "reviews['stars'].value_counts().plot(kind='bar')"
      ],
      "metadata": {
        "id": "ctkYbZlo4n-K",
        "colab": {
          "base_uri": "https://localhost:8080/",
          "height": 279
        },
        "outputId": "15cdb76c-5fba-4825-d5af-9e6e2a785ebf"
      },
      "execution_count": null,
      "outputs": [
        {
          "output_type": "execute_result",
          "data": {
            "text/plain": [
              "<Axes: >"
            ]
          },
          "metadata": {},
          "execution_count": 5
        },
        {
          "output_type": "display_data",
          "data": {
            "text/plain": [
              "<Figure size 432x288 with 1 Axes>"
            ],
            "image/png": "[encoded data removed]"
          },
          "metadata": {
            "needs_background": "light"
          }
        }
      ]
    },
    {
      "cell_type": "code",
      "source": [
        "reviews.drop(reviews[reviews.stars == 3].index, inplace=True)"
      ],
      "metadata": {
        "id": "LqiP8ofixIPe"
      },
      "execution_count": null,
      "outputs": []
    },
    {
      "cell_type": "code",
      "source": [
        "reviews['stars'].value_counts().plot(kind='bar')"
      ],
      "metadata": {
        "colab": {
          "base_uri": "https://localhost:8080/",
          "height": 279
        },
        "id": "HMd3F1WDxXg_",
        "outputId": "c034626f-4a35-4d78-ddec-709ee193ca8e"
      },
      "execution_count": null,
      "outputs": [
        {
          "output_type": "execute_result",
          "data": {
            "text/plain": [
              "<Axes: >"
            ]
          },
          "metadata": {},
          "execution_count": 7
        },
        {
          "output_type": "display_data",
          "data": {
            "text/plain": [
              "<Figure size 432x288 with 1 Axes>"
            ],
            "image/png": "[encoded data removed]"
          },
          "metadata": {
            "needs_background": "light"
          }
        }
      ]
    },
    {
      "cell_type": "markdown",
      "source": [
        "all stars 4 and 5 are positive, others are negative\n"
      ],
      "metadata": {
        "id": "qmWvc0QJZQbp"
      }
    },
    {
      "cell_type": "code",
      "source": [
        "reviews['stars'] = np.where(reviews['stars'] >= 4, 1, 0)"
      ],
      "metadata": {
        "id": "lDowBXHgWfUk"
      },
      "execution_count": null,
      "outputs": []
    },
    {
      "cell_type": "code",
      "source": [
        "reviews['stars'].value_counts().plot(kind='bar')"
      ],
      "metadata": {
        "id": "OyH1TGJjZEij",
        "colab": {
          "base_uri": "https://localhost:8080/",
          "height": 279
        },
        "outputId": "c0d383d1-6d72-4b89-f7c4-54f87ce6e355"
      },
      "execution_count": null,
      "outputs": [
        {
          "output_type": "execute_result",
          "data": {
            "text/plain": [
              "<Axes: >"
            ]
          },
          "metadata": {},
          "execution_count": 9
        },
        {
          "output_type": "display_data",
          "data": {
            "text/plain": [
              "<Figure size 432x288 with 1 Axes>"
            ],
            "image/png": "[encoded data removed]"
          },
          "metadata": {
            "needs_background": "light"
          }
        }
      ]
    },
    {
      "cell_type": "markdown",
      "source": [
        "removing some items to make 6000 positive reviews\n"
      ],
      "metadata": {
        "id": "3SSMU68SZZi4"
      }
    },
    {
      "cell_type": "code",
      "source": [
        "reviews['stars'].value_counts()"
      ],
      "metadata": {
        "id": "90jVft7gYRhM",
        "colab": {
          "base_uri": "https://localhost:8080/"
        },
        "outputId": "ed502cf1-8b16-435d-d67e-4995d19440e4"
      },
      "execution_count": null,
      "outputs": [
        {
          "output_type": "execute_result",
          "data": {
            "text/plain": [
              "1    6863\n",
              "0    1676\n",
              "Name: stars, dtype: int64"
            ]
          },
          "metadata": {},
          "execution_count": 10
        }
      ]
    },
    {
      "cell_type": "code",
      "source": [
        "reviews = reviews.drop(reviews[reviews.stars == 1].iloc[:863].index)"
      ],
      "metadata": {
        "id": "xXDW-qvxZxVs"
      },
      "execution_count": null,
      "outputs": []
    },
    {
      "cell_type": "code",
      "source": [
        "#sns.countplot(reviews['stars'])"
      ],
      "metadata": {
        "id": "cROciKm_YvLY"
      },
      "execution_count": null,
      "outputs": []
    },
    {
      "cell_type": "code",
      "source": [
        "max_features = 6000\n",
        "# we will use the Tokenizer class: create a word-to-index dictionary. In the word-to-index dictionary\n",
        "tokenizer = Tokenizer(num_words=max_features, split = ' ')\n",
        "tokenizer.fit_on_texts(reviews['text'].values)\n",
        "\n",
        "#to convert sentences into vector /numbers\n",
        "x = tokenizer.texts_to_sequences(reviews['text'].values)\n",
        "x = pad_sequences(x)\n",
        "\n",
        "y = reviews['stars']"
      ],
      "metadata": {
        "id": "TkD_4G5YYNKz"
      },
      "execution_count": null,
      "outputs": []
    },
    {
      "cell_type": "code",
      "source": [
        "x_train, x_test, y_train, y_test = train_test_split(\n",
        "    x, y, test_size=0.3, random_state=42, shuffle=True\n",
        ")\n"
      ],
      "metadata": {
        "id": "m0P_xjVECB2C"
      },
      "execution_count": null,
      "outputs": []
    },
    {
      "cell_type": "code",
      "source": [
        "print(\"shape of X_train:\", x_train.shape)\n",
        "print(\"shape of X_test:\", x_test.shape)"
      ],
      "metadata": {
        "id": "6TTu96yHCFUB",
        "colab": {
          "base_uri": "https://localhost:8080/"
        },
        "outputId": "d9250526-7a6c-42c3-ad6f-32cec36468b8"
      },
      "execution_count": null,
      "outputs": [
        {
          "output_type": "stream",
          "name": "stdout",
          "text": [
            "shape of X_train: (5373, 929)\n",
            "shape of X_test: (2303, 929)\n"
          ]
        }
      ]
    },
    {
      "cell_type": "code",
      "source": [
        "print(\"shape of y_train:\", y_train.shape)\n",
        "print(\"shape of y_test:\", y_test.shape)"
      ],
      "metadata": {
        "id": "UuzGoJmeDlbh",
        "colab": {
          "base_uri": "https://localhost:8080/"
        },
        "outputId": "43cbeb02-ae32-4e60-bab5-ca69beaf89ed"
      },
      "execution_count": null,
      "outputs": [
        {
          "output_type": "stream",
          "name": "stdout",
          "text": [
            "shape of y_train: (5373,)\n",
            "shape of y_test: (2303,)\n"
          ]
        }
      ]
    },
    {
      "cell_type": "code",
      "source": [
        "#Create RNN model\n",
        "embed_dim = 128\n",
        "lstm_out = 196\n",
        "model = tf.keras.models.Sequential()\n",
        "model.add(tf.keras.layers.Embedding(max_features, 128, input_length=x_train.shape[1]))\n",
        "model.add(tf.keras.layers.SpatialDropout1D(0.5))\n",
        "model.add(tf.keras.layers.LSTM(196))\n",
        "model.add(tf.keras.layers.Dropout(0.2))\n",
        "model.add(tf.keras.layers.Dense(100, activation = tf.nn.relu))\n",
        "model.add(tf.keras.layers.Dropout(0.4))\n",
        "model.add(tf.keras.layers.Dense(2, activation = tf.nn.softmax))\n",
        "  "
      ],
      "metadata": {
        "id": "0j7UgV4pXdgz"
      },
      "execution_count": null,
      "outputs": []
    },
    {
      "cell_type": "code",
      "source": [
        "model.summary()\n"
      ],
      "metadata": {
        "id": "4H6dGZ7LZdAB",
        "colab": {
          "base_uri": "https://localhost:8080/"
        },
        "outputId": "ad5edadc-37fe-4a85-a30a-a9bce7105a3d"
      },
      "execution_count": null,
      "outputs": [
        {
          "output_type": "stream",
          "name": "stdout",
          "text": [
            "Model: \"sequential\"\n",
            "_________________________________________________________________\n",
            " Layer (type)                Output Shape              Param #   \n",
            "=================================================================\n",
            " embedding (Embedding)       (None, 929, 128)          768000    \n",
            "                                                                 \n",
            " spatial_dropout1d (SpatialD  (None, 929, 128)         0         \n",
            " ropout1D)                                                       \n",
            "                                                                 \n",
            " lstm (LSTM)                 (None, 196)               254800    \n",
            "                                                                 \n",
            " dropout (Dropout)           (None, 196)               0         \n",
            "                                                                 \n",
            " dense (Dense)               (None, 100)               19700     \n",
            "                                                                 \n",
            " dropout_1 (Dropout)         (None, 100)               0         \n",
            "                                                                 \n",
            " dense_1 (Dense)             (None, 2)                 202       \n",
            "                                                                 \n",
            "=================================================================\n",
            "Total params: 1,042,702\n",
            "Trainable params: 1,042,702\n",
            "Non-trainable params: 0\n",
            "_________________________________________________________________\n"
          ]
        }
      ]
    },
    {
      "cell_type": "code",
      "source": [
        "model.compile(optimizer=\"adam\", loss=\"sparse_categorical_crossentropy\", metrics=[\"accuracy\"])"
      ],
      "metadata": {
        "id": "v4VTgV5LJVtK"
      },
      "execution_count": null,
      "outputs": []
    },
    {
      "cell_type": "code",
      "source": [
        "model.fit(x_train, y_train, epochs=10 , batch_size=32, validation_split = 0.2, verbose = 2)"
      ],
      "metadata": {
        "id": "bzjfPvPsZpCm",
        "colab": {
          "base_uri": "https://localhost:8080/"
        },
        "outputId": "54b3bd4a-72ac-4255-eb36-d4c4abe90850"
      },
      "execution_count": null,
      "outputs": [
        {
          "output_type": "stream",
          "name": "stdout",
          "text": [
            "Epoch 1/10\n",
            "135/135 - 32s - loss: 0.4884 - accuracy: 0.7934 - val_loss: 0.3765 - val_accuracy: 0.8419 - 32s/epoch - 240ms/step\n",
            "Epoch 2/10\n",
            "135/135 - 18s - loss: 0.3099 - accuracy: 0.8616 - val_loss: 0.3143 - val_accuracy: 0.8642 - 18s/epoch - 135ms/step\n",
            "Epoch 3/10\n",
            "135/135 - 15s - loss: 0.2434 - accuracy: 0.9072 - val_loss: 0.3578 - val_accuracy: 0.8595 - 15s/epoch - 112ms/step\n",
            "Epoch 4/10\n",
            "135/135 - 14s - loss: 0.1406 - accuracy: 0.9486 - val_loss: 0.3438 - val_accuracy: 0.8753 - 14s/epoch - 104ms/step\n",
            "Epoch 5/10\n",
            "135/135 - 11s - loss: 0.0846 - accuracy: 0.9686 - val_loss: 0.3724 - val_accuracy: 0.8698 - 11s/epoch - 82ms/step\n",
            "Epoch 6/10\n",
            "135/135 - 9s - loss: 0.0475 - accuracy: 0.9867 - val_loss: 0.5015 - val_accuracy: 0.8660 - 9s/epoch - 69ms/step\n",
            "Epoch 7/10\n",
            "135/135 - 10s - loss: 0.0821 - accuracy: 0.9732 - val_loss: 0.4977 - val_accuracy: 0.8493 - 10s/epoch - 72ms/step\n",
            "Epoch 8/10\n",
            "135/135 - 9s - loss: 0.0394 - accuracy: 0.9879 - val_loss: 0.5158 - val_accuracy: 0.8716 - 9s/epoch - 68ms/step\n",
            "Epoch 9/10\n",
            "135/135 - 8s - loss: 0.0281 - accuracy: 0.9926 - val_loss: 0.5716 - val_accuracy: 0.8679 - 8s/epoch - 61ms/step\n",
            "Epoch 10/10\n",
            "135/135 - 8s - loss: 0.0174 - accuracy: 0.9937 - val_loss: 0.5953 - val_accuracy: 0.8698 - 8s/epoch - 57ms/step\n"
          ]
        },
        {
          "output_type": "execute_result",
          "data": {
            "text/plain": [
              "<keras.callbacks.History at 0x7f8ed7d2f6d0>"
            ]
          },
          "metadata": {},
          "execution_count": 19
        }
      ]
    },
    {
      "cell_type": "code",
      "source": [
        "history = model.history"
      ],
      "metadata": {
        "id": "-w2SYVlvE2-y"
      },
      "execution_count": null,
      "outputs": []
    },
    {
      "cell_type": "code",
      "source": [
        "#To test the accuracy score\n",
        "\n",
        "y_pred = model.predict(x_test)\n",
        "y_pred_classes = np.argmax(y_pred, axis=1)\n",
        "print(accuracy_score(y_test, y_pred_classes))"
      ],
      "metadata": {
        "id": "XNc2n78GcgZq",
        "colab": {
          "base_uri": "https://localhost:8080/"
        },
        "outputId": "ea319b86-7501-426a-857e-3de206b3b435"
      },
      "execution_count": null,
      "outputs": [
        {
          "output_type": "stream",
          "name": "stdout",
          "text": [
            "72/72 [==============================] - 1s 20ms/step\n",
            "0.8775510204081632\n"
          ]
        }
      ]
    },
    {
      "cell_type": "code",
      "source": [
        "#Testing model on new input\n",
        "sample = \"Their service is not good\"\n",
        "sample_item = [sample]\n",
        "sample_item = tokenizer.texts_to_sequences(sample_item)\n",
        "sample_item = pad_sequences(sample_item, maxlen=len(sample) + 1)\n",
        "\n",
        "print(sample_item)\n",
        "sentiment = model.predict(sample_item,batch_size=1,verbose = 2)[0]\n",
        "\n",
        "if(np.argmax(sentiment) == 0):\n",
        "    print(\"negative\")\n",
        "elif (np.argmax(sentiment) == 1):\n",
        "    print(\"positive\")\n"
      ],
      "metadata": {
        "id": "c5NVzPDweeMd",
        "colab": {
          "base_uri": "https://localhost:8080/"
        },
        "outputId": "7124f424-d069-4aa5-d59d-aad96d828b4e"
      },
      "execution_count": null,
      "outputs": [
        {
          "output_type": "stream",
          "name": "stdout",
          "text": [
            "[[ 0  0  0  0  0  0  0  0  0  0  0  0  0  0  0  0  0  0  0  0  0 44 56  8\n",
            "  22 28]]\n",
            "1/1 - 0s - 332ms/epoch - 332ms/step\n",
            "negative\n"
          ]
        }
      ]
    },
    {
      "cell_type": "code",
      "source": [
        "#Testing model on new input\n",
        "sample = \"I liked this service\"\n",
        "sample_item = [sample]\n",
        "sample_item = tokenizer.texts_to_sequences(sample_item)\n",
        "sample_item = pad_sequences(sample_item, maxlen=len(sample) + 1)\n",
        "\n",
        "print(sample_item)\n",
        "sentiment = model.predict(sample_item,batch_size=1,verbose = 2)[0]\n",
        "\n",
        "if(np.argmax(sentiment) == 0):\n",
        "    print(\"negative\")\n",
        "elif (np.argmax(sentiment) == 1):\n",
        "    print(\"positive\")\n"
      ],
      "metadata": {
        "colab": {
          "base_uri": "https://localhost:8080/"
        },
        "id": "fZ5coEPF0IpJ",
        "outputId": "238ea0d1-00a1-4802-ef3d-7beb85e6fe47"
      },
      "execution_count": null,
      "outputs": [
        {
          "output_type": "stream",
          "name": "stdout",
          "text": [
            "[[  0   0   0   0   0   0   0   0   0   0   0   0   0   0   0   0   0   3\n",
            "  457  15  56]]\n",
            "1/1 - 0s - 17ms/epoch - 17ms/step\n",
            "positive\n"
          ]
        }
      ]
    }
  ]
}