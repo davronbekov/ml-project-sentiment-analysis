{
  "nbformat": 4,
  "nbformat_minor": 0,
  "metadata": {
    "colab": {
      "provenance": []
    },
    "kernelspec": {
      "name": "python3",
      "display_name": "Python 3"
    },
    "language_info": {
      "name": "python"
    },
    "accelerator": "GPU",
    "gpuClass": "standard"
  },
  "cells": [
    {
      "cell_type": "code",
      "execution_count": 1,
      "metadata": {
        "id": "O1r7Vu7_1xdb"
      },
      "outputs": [],
      "source": [
        "                                                                                                                                                                                                                                                                                                                                                                                                                                                                                                                                                                                                                                                                                                                                                                                                                                                                                                                                                                                                                                                                                                                                                                                                                                                                                                                                                                                                                                                                                                                                                                                                                                                                                                                                                                                                                                                                                                                                                                                                                                                                                                                                                                                                                                                                                                                                                                                                                                                                                                                                                                                                                                                                                                                                                                                                                                                                                                                                                                                                                                                                                                                                                                                                                                                                                                                                                                                                                                                                                                                                                                                                                                                                                                                                                                                                                                                                                                                                                                                                                                                                                                                                                                                                                                                                                                                                                                                                                                                                                                                                                                                                                                                                                                                                                                                                                                                                                                                                                                                                                                                            import numpy as np\n",
        "import pandas as pd\n",
        "import matplotlib.pyplot as plt\n",
        "import tensorflow as tf\n",
        "from tensorflow import keras\n",
        "\n",
        "from sklearn.model_selection import train_test_split\n",
        "\n",
        "from keras.preprocessing.text import Tokenizer\n",
        "from keras.utils import pad_sequences, to_categorical\n",
        "from keras.models import Sequential\n",
        "from keras.layers import Dense, Dropout, Activation, SimpleRNN\n",
        "from keras import optimizers\n",
        "from keras.wrappers.scikit_learn import KerasClassifier\n",
        "\n",
        "from sklearn.metrics import accuracy_score\n",
        "\n",
        "import seaborn as sns"
      ]
    },
    {
      "cell_type": "code",
      "source": [
        "#  from google.colab import drive\n",
        "#  drive.mount('/content/drive')\n",
        "#  reviews = pd.read_csv('/content/drive/MyDrive/Colab Notebooks/yelp.csv')\n",
        "\n",
        "reviews = pd.read_csv('yelp.csv')\n"
      ],
      "metadata": {
        "id": "Eqt4mokaCRHa"
      },
      "execution_count": 10,
      "outputs": []
    },
    {
      "cell_type": "code",
      "source": [
        "reviews.tail(10)"
      ],
      "metadata": {
        "id": "K9gkQrI5EiMV",
        "colab": {
          "base_uri": "https://localhost:8080/",
          "height": 809
        },
        "outputId": "af01a968-5bd8-47a5-c9bb-fff06f6688e2"
      },
      "execution_count": 3,
      "outputs": [
        {
          "output_type": "execute_result",
          "data": {
            "text/plain": [
              "                 business_id        date               review_id  stars  \\\n",
              "9990  R8VwdLyvsp9iybNqRvm94g  2011-10-03  pcEeHdAJPoFNF23es0kKWg      5   \n",
              "9991  WJ5mq4EiWYAA4Vif0xDfdg  2011-12-05  EuHX-39FR7tyyG1ElvN1Jw      5   \n",
              "9992  f96lWMIAUhYIYy9gOktivQ  2009-03-10  YF17z7HWlMj6aezZc-pVEw      5   \n",
              "9993  maB4VHseFUY2TmPtAQnB9Q  2011-06-27  SNnyYHI9rw9TTltVX3TF-A      4   \n",
              "9994  L3BSpFvxcNf3T_teitgt6A  2012-03-19  0nxb1gIGFgk3WbC5zwhKZg      5   \n",
              "9995  VY_tvNUCCXGXQeSvJl757Q  2012-07-28  Ubyfp2RSDYW0g7Mbr8N3iA      3   \n",
              "9996  EKzMHI1tip8rC1-ZAy64yg  2012-01-18  2XyIOQKbVFb6uXQdJ0RzlQ      4   \n",
              "9997  53YGfwmbW73JhFiemNeyzQ  2010-11-16  jyznYkIbpqVmlsZxSDSypA      4   \n",
              "9998  9SKdOoDHcFoxK5ZtsgHJoA  2012-12-02  5UKq9WQE1qQbJ0DJbc-B6Q      2   \n",
              "9999  pF7uRzygyZsltbmVpjIyvw  2010-10-16  vWSmOhg2ID1MNZHaWapGbA      5   \n",
              "\n",
              "                                                   text    type  \\\n",
              "9990  Yes I do rock the hipster joints.  I dig this ...  review   \n",
              "9991  Only 4 stars? \\n\\n(A few notes: The folks that...  review   \n",
              "9992  I'm not normally one to jump at reviewing a ch...  review   \n",
              "9993  Judging by some of the reviews, maybe I went o...  review   \n",
              "9994  Let's see...what is there NOT to like about Su...  review   \n",
              "9995  First visit...Had lunch here today - used my G...  review   \n",
              "9996  Should be called house of deliciousness!\\n\\nI ...  review   \n",
              "9997  I recently visited Olive and Ivy for business ...  review   \n",
              "9998  My nephew just moved to Scottsdale recently so...  review   \n",
              "9999  4-5 locations.. all 4.5 star average.. I think...  review   \n",
              "\n",
              "                     user_id  cool  useful  funny  \n",
              "9990  b92Y3tyWTQQZ5FLifex62Q     1       1      1  \n",
              "9991  hTau-iNZFwoNsPCaiIUTEA     1       1      0  \n",
              "9992  W_QXYA7A0IhMrvbckz7eVg     2       3      2  \n",
              "9993  T46gxPbJMWmlLyr7GxQLyQ     1       1      0  \n",
              "9994  OzOZv-Knlw3oz9K5Kh5S6A     1       2      1  \n",
              "9995  _eqQoPtQ3e3UxLE4faT6ow     1       2      0  \n",
              "9996  ROru4uk5SaYc3rg8IU7SQw     0       0      0  \n",
              "9997  gGbN1aKQHMgfQZkqlsuwzg     0       0      0  \n",
              "9998  0lyVoNazXa20WzUyZPLaQQ     0       0      0  \n",
              "9999  KSBFytcdjPKZgXKQnYQdkA     0       0      0  "
            ],
            "text/html": [
              "\n",
              "  <div id=\"df-57d96663-0560-439f-bdce-8a69e897c176\">\n",
              "    <div class=\"colab-df-container\">\n",
              "      <div>\n",
              "<style scoped>\n",
              "    .dataframe tbody tr th:only-of-type {\n",
              "        vertical-align: middle;\n",
              "    }\n",
              "\n",
              "    .dataframe tbody tr th {\n",
              "        vertical-align: top;\n",
              "    }\n",
              "\n",
              "    .dataframe thead th {\n",
              "        text-align: right;\n",
              "    }\n",
              "</style>\n",
              "<table border=\"1\" class=\"dataframe\">\n",
              "  <thead>\n",
              "    <tr style=\"text-align: right;\">\n",
              "      <th></th>\n",
              "      <th>business_id</th>\n",
              "      <th>date</th>\n",
              "      <th>review_id</th>\n",
              "      <th>stars</th>\n",
              "      <th>text</th>\n",
              "      <th>type</th>\n",
              "      <th>user_id</th>\n",
              "      <th>cool</th>\n",
              "      <th>useful</th>\n",
              "      <th>funny</th>\n",
              "    </tr>\n",
              "  </thead>\n",
              "  <tbody>\n",
              "    <tr>\n",
              "      <th>9990</th>\n",
              "      <td>R8VwdLyvsp9iybNqRvm94g</td>\n",
              "      <td>2011-10-03</td>\n",
              "      <td>pcEeHdAJPoFNF23es0kKWg</td>\n",
              "      <td>5</td>\n",
              "      <td>Yes I do rock the hipster joints.  I dig this ...</td>\n",
              "      <td>review</td>\n",
              "      <td>b92Y3tyWTQQZ5FLifex62Q</td>\n",
              "      <td>1</td>\n",
              "      <td>1</td>\n",
              "      <td>1</td>\n",
              "    </tr>\n",
              "    <tr>\n",
              "      <th>9991</th>\n",
              "      <td>WJ5mq4EiWYAA4Vif0xDfdg</td>\n",
              "      <td>2011-12-05</td>\n",
              "      <td>EuHX-39FR7tyyG1ElvN1Jw</td>\n",
              "      <td>5</td>\n",
              "      <td>Only 4 stars? \\n\\n(A few notes: The folks that...</td>\n",
              "      <td>review</td>\n",
              "      <td>hTau-iNZFwoNsPCaiIUTEA</td>\n",
              "      <td>1</td>\n",
              "      <td>1</td>\n",
              "      <td>0</td>\n",
              "    </tr>\n",
              "    <tr>\n",
              "      <th>9992</th>\n",
              "      <td>f96lWMIAUhYIYy9gOktivQ</td>\n",
              "      <td>2009-03-10</td>\n",
              "      <td>YF17z7HWlMj6aezZc-pVEw</td>\n",
              "      <td>5</td>\n",
              "      <td>I'm not normally one to jump at reviewing a ch...</td>\n",
              "      <td>review</td>\n",
              "      <td>W_QXYA7A0IhMrvbckz7eVg</td>\n",
              "      <td>2</td>\n",
              "      <td>3</td>\n",
              "      <td>2</td>\n",
              "    </tr>\n",
              "    <tr>\n",
              "      <th>9993</th>\n",
              "      <td>maB4VHseFUY2TmPtAQnB9Q</td>\n",
              "      <td>2011-06-27</td>\n",
              "      <td>SNnyYHI9rw9TTltVX3TF-A</td>\n",
              "      <td>4</td>\n",
              "      <td>Judging by some of the reviews, maybe I went o...</td>\n",
              "      <td>review</td>\n",
              "      <td>T46gxPbJMWmlLyr7GxQLyQ</td>\n",
              "      <td>1</td>\n",
              "      <td>1</td>\n",
              "      <td>0</td>\n",
              "    </tr>\n",
              "    <tr>\n",
              "      <th>9994</th>\n",
              "      <td>L3BSpFvxcNf3T_teitgt6A</td>\n",
              "      <td>2012-03-19</td>\n",
              "      <td>0nxb1gIGFgk3WbC5zwhKZg</td>\n",
              "      <td>5</td>\n",
              "      <td>Let's see...what is there NOT to like about Su...</td>\n",
              "      <td>review</td>\n",
              "      <td>OzOZv-Knlw3oz9K5Kh5S6A</td>\n",
              "      <td>1</td>\n",
              "      <td>2</td>\n",
              "      <td>1</td>\n",
              "    </tr>\n",
              "    <tr>\n",
              "      <th>9995</th>\n",
              "      <td>VY_tvNUCCXGXQeSvJl757Q</td>\n",
              "      <td>2012-07-28</td>\n",
              "      <td>Ubyfp2RSDYW0g7Mbr8N3iA</td>\n",
              "      <td>3</td>\n",
              "      <td>First visit...Had lunch here today - used my G...</td>\n",
              "      <td>review</td>\n",
              "      <td>_eqQoPtQ3e3UxLE4faT6ow</td>\n",
              "      <td>1</td>\n",
              "      <td>2</td>\n",
              "      <td>0</td>\n",
              "    </tr>\n",
              "    <tr>\n",
              "      <th>9996</th>\n",
              "      <td>EKzMHI1tip8rC1-ZAy64yg</td>\n",
              "      <td>2012-01-18</td>\n",
              "      <td>2XyIOQKbVFb6uXQdJ0RzlQ</td>\n",
              "      <td>4</td>\n",
              "      <td>Should be called house of deliciousness!\\n\\nI ...</td>\n",
              "      <td>review</td>\n",
              "      <td>ROru4uk5SaYc3rg8IU7SQw</td>\n",
              "      <td>0</td>\n",
              "      <td>0</td>\n",
              "      <td>0</td>\n",
              "    </tr>\n",
              "    <tr>\n",
              "      <th>9997</th>\n",
              "      <td>53YGfwmbW73JhFiemNeyzQ</td>\n",
              "      <td>2010-11-16</td>\n",
              "      <td>jyznYkIbpqVmlsZxSDSypA</td>\n",
              "      <td>4</td>\n",
              "      <td>I recently visited Olive and Ivy for business ...</td>\n",
              "      <td>review</td>\n",
              "      <td>gGbN1aKQHMgfQZkqlsuwzg</td>\n",
              "      <td>0</td>\n",
              "      <td>0</td>\n",
              "      <td>0</td>\n",
              "    </tr>\n",
              "    <tr>\n",
              "      <th>9998</th>\n",
              "      <td>9SKdOoDHcFoxK5ZtsgHJoA</td>\n",
              "      <td>2012-12-02</td>\n",
              "      <td>5UKq9WQE1qQbJ0DJbc-B6Q</td>\n",
              "      <td>2</td>\n",
              "      <td>My nephew just moved to Scottsdale recently so...</td>\n",
              "      <td>review</td>\n",
              "      <td>0lyVoNazXa20WzUyZPLaQQ</td>\n",
              "      <td>0</td>\n",
              "      <td>0</td>\n",
              "      <td>0</td>\n",
              "    </tr>\n",
              "    <tr>\n",
              "      <th>9999</th>\n",
              "      <td>pF7uRzygyZsltbmVpjIyvw</td>\n",
              "      <td>2010-10-16</td>\n",
              "      <td>vWSmOhg2ID1MNZHaWapGbA</td>\n",
              "      <td>5</td>\n",
              "      <td>4-5 locations.. all 4.5 star average.. I think...</td>\n",
              "      <td>review</td>\n",
              "      <td>KSBFytcdjPKZgXKQnYQdkA</td>\n",
              "      <td>0</td>\n",
              "      <td>0</td>\n",
              "      <td>0</td>\n",
              "    </tr>\n",
              "  </tbody>\n",
              "</table>\n",
              "</div>\n",
              "      <button class=\"colab-df-convert\" onclick=\"convertToInteractive('df-57d96663-0560-439f-bdce-8a69e897c176')\"\n",
              "              title=\"Convert this dataframe to an interactive table.\"\n",
              "              style=\"display:none;\">\n",
              "        \n",
              "  <svg xmlns=\"http://www.w3.org/2000/svg\" height=\"24px\"viewBox=\"0 0 24 24\"\n",
              "       width=\"24px\">\n",
              "    <path d=\"M0 0h24v24H0V0z\" fill=\"none\"/>\n",
              "    <path d=\"M18.56 5.44l.94 2.06.94-2.06 2.06-.94-2.06-.94-.94-2.06-.94 2.06-2.06.94zm-11 1L8.5 8.5l.94-2.06 2.06-.94-2.06-.94L8.5 2.5l-.94 2.06-2.06.94zm10 10l.94 2.06.94-2.06 2.06-.94-2.06-.94-.94-2.06-.94 2.06-2.06.94z\"/><path d=\"M17.41 7.96l-1.37-1.37c-.4-.4-.92-.59-1.43-.59-.52 0-1.04.2-1.43.59L10.3 9.45l-7.72 7.72c-.78.78-.78 2.05 0 2.83L4 21.41c.39.39.9.59 1.41.59.51 0 1.02-.2 1.41-.59l7.78-7.78 2.81-2.81c.8-.78.8-2.07 0-2.86zM5.41 20L4 18.59l7.72-7.72 1.47 1.35L5.41 20z\"/>\n",
              "  </svg>\n",
              "      </button>\n",
              "      \n",
              "  <style>\n",
              "    .colab-df-container {\n",
              "      display:flex;\n",
              "      flex-wrap:wrap;\n",
              "      gap: 12px;\n",
              "    }\n",
              "\n",
              "    .colab-df-convert {\n",
              "      background-color: #E8F0FE;\n",
              "      border: none;\n",
              "      border-radius: 50%;\n",
              "      cursor: pointer;\n",
              "      display: none;\n",
              "      fill: #1967D2;\n",
              "      height: 32px;\n",
              "      padding: 0 0 0 0;\n",
              "      width: 32px;\n",
              "    }\n",
              "\n",
              "    .colab-df-convert:hover {\n",
              "      background-color: #E2EBFA;\n",
              "      box-shadow: 0px 1px 2px rgba(60, 64, 67, 0.3), 0px 1px 3px 1px rgba(60, 64, 67, 0.15);\n",
              "      fill: #174EA6;\n",
              "    }\n",
              "\n",
              "    [theme=dark] .colab-df-convert {\n",
              "      background-color: #3B4455;\n",
              "      fill: #D2E3FC;\n",
              "    }\n",
              "\n",
              "    [theme=dark] .colab-df-convert:hover {\n",
              "      background-color: #434B5C;\n",
              "      box-shadow: 0px 1px 3px 1px rgba(0, 0, 0, 0.15);\n",
              "      filter: drop-shadow(0px 1px 2px rgba(0, 0, 0, 0.3));\n",
              "      fill: #FFFFFF;\n",
              "    }\n",
              "  </style>\n",
              "\n",
              "      <script>\n",
              "        const buttonEl =\n",
              "          document.querySelector('#df-57d96663-0560-439f-bdce-8a69e897c176 button.colab-df-convert');\n",
              "        buttonEl.style.display =\n",
              "          google.colab.kernel.accessAllowed ? 'block' : 'none';\n",
              "\n",
              "        async function convertToInteractive(key) {\n",
              "          const element = document.querySelector('#df-57d96663-0560-439f-bdce-8a69e897c176');\n",
              "          const dataTable =\n",
              "            await google.colab.kernel.invokeFunction('convertToInteractive',\n",
              "                                                     [key], {});\n",
              "          if (!dataTable) return;\n",
              "\n",
              "          const docLinkHtml = 'Like what you see? Visit the ' +\n",
              "            '<a target=\"_blank\" href=https://colab.research.google.com/notebooks/data_table.ipynb>data table notebook</a>'\n",
              "            + ' to learn more about interactive tables.';\n",
              "          element.innerHTML = '';\n",
              "          dataTable['output_type'] = 'display_data';\n",
              "          await google.colab.output.renderOutput(dataTable, element);\n",
              "          const docLink = document.createElement('div');\n",
              "          docLink.innerHTML = docLinkHtml;\n",
              "          element.appendChild(docLink);\n",
              "        }\n",
              "      </script>\n",
              "    </div>\n",
              "  </div>\n",
              "  "
            ]
          },
          "metadata": {},
          "execution_count": 3
        }
      ]
    },
    {
      "cell_type": "code",
      "source": [
        "reviews.head(2)"
      ],
      "metadata": {
        "id": "_ffCcO-U3iqL",
        "colab": {
          "base_uri": "https://localhost:8080/",
          "height": 402
        },
        "outputId": "e1f127de-5f69-4267-bd31-11092f5b47db"
      },
      "execution_count": 4,
      "outputs": [
        {
          "output_type": "execute_result",
          "data": {
            "text/plain": [
              "              business_id        date               review_id  stars  \\\n",
              "0  9yKzy9PApeiPPOUJEtnvkg  2011-01-26  fWKvX83p0-ka4JS3dc6E5A      5   \n",
              "1  ZRJwVLyzEJq1VAihDhYiow  2011-07-27  IjZ33sJrzXqU-0X6U8NwyA      5   \n",
              "\n",
              "                                                text    type  \\\n",
              "0  My wife took me here on my birthday for breakf...  review   \n",
              "1  I have no idea why some people give bad review...  review   \n",
              "\n",
              "                  user_id  cool  useful  funny  \n",
              "0  rLtl8ZkDX5vH5nAx9C3q5Q     2       5      0  \n",
              "1  0a2KyEL0d3Yb1V6aivbIuQ     0       0      0  "
            ],
            "text/html": [
              "\n",
              "  <div id=\"df-2867dad6-41e6-4dc7-be55-dd8c8f66a1fa\">\n",
              "    <div class=\"colab-df-container\">\n",
              "      <div>\n",
              "<style scoped>\n",
              "    .dataframe tbody tr th:only-of-type {\n",
              "        vertical-align: middle;\n",
              "    }\n",
              "\n",
              "    .dataframe tbody tr th {\n",
              "        vertical-align: top;\n",
              "    }\n",
              "\n",
              "    .dataframe thead th {\n",
              "        text-align: right;\n",
              "    }\n",
              "</style>\n",
              "<table border=\"1\" class=\"dataframe\">\n",
              "  <thead>\n",
              "    <tr style=\"text-align: right;\">\n",
              "      <th></th>\n",
              "      <th>business_id</th>\n",
              "      <th>date</th>\n",
              "      <th>review_id</th>\n",
              "      <th>stars</th>\n",
              "      <th>text</th>\n",
              "      <th>type</th>\n",
              "      <th>user_id</th>\n",
              "      <th>cool</th>\n",
              "      <th>useful</th>\n",
              "      <th>funny</th>\n",
              "    </tr>\n",
              "  </thead>\n",
              "  <tbody>\n",
              "    <tr>\n",
              "      <th>0</th>\n",
              "      <td>9yKzy9PApeiPPOUJEtnvkg</td>\n",
              "      <td>2011-01-26</td>\n",
              "      <td>fWKvX83p0-ka4JS3dc6E5A</td>\n",
              "      <td>5</td>\n",
              "      <td>My wife took me here on my birthday for breakf...</td>\n",
              "      <td>review</td>\n",
              "      <td>rLtl8ZkDX5vH5nAx9C3q5Q</td>\n",
              "      <td>2</td>\n",
              "      <td>5</td>\n",
              "      <td>0</td>\n",
              "    </tr>\n",
              "    <tr>\n",
              "      <th>1</th>\n",
              "      <td>ZRJwVLyzEJq1VAihDhYiow</td>\n",
              "      <td>2011-07-27</td>\n",
              "      <td>IjZ33sJrzXqU-0X6U8NwyA</td>\n",
              "      <td>5</td>\n",
              "      <td>I have no idea why some people give bad review...</td>\n",
              "      <td>review</td>\n",
              "      <td>0a2KyEL0d3Yb1V6aivbIuQ</td>\n",
              "      <td>0</td>\n",
              "      <td>0</td>\n",
              "      <td>0</td>\n",
              "    </tr>\n",
              "  </tbody>\n",
              "</table>\n",
              "</div>\n",
              "      <button class=\"colab-df-convert\" onclick=\"convertToInteractive('df-2867dad6-41e6-4dc7-be55-dd8c8f66a1fa')\"\n",
              "              title=\"Convert this dataframe to an interactive table.\"\n",
              "              style=\"display:none;\">\n",
              "        \n",
              "  <svg xmlns=\"http://www.w3.org/2000/svg\" height=\"24px\"viewBox=\"0 0 24 24\"\n",
              "       width=\"24px\">\n",
              "    <path d=\"M0 0h24v24H0V0z\" fill=\"none\"/>\n",
              "    <path d=\"M18.56 5.44l.94 2.06.94-2.06 2.06-.94-2.06-.94-.94-2.06-.94 2.06-2.06.94zm-11 1L8.5 8.5l.94-2.06 2.06-.94-2.06-.94L8.5 2.5l-.94 2.06-2.06.94zm10 10l.94 2.06.94-2.06 2.06-.94-2.06-.94-.94-2.06-.94 2.06-2.06.94z\"/><path d=\"M17.41 7.96l-1.37-1.37c-.4-.4-.92-.59-1.43-.59-.52 0-1.04.2-1.43.59L10.3 9.45l-7.72 7.72c-.78.78-.78 2.05 0 2.83L4 21.41c.39.39.9.59 1.41.59.51 0 1.02-.2 1.41-.59l7.78-7.78 2.81-2.81c.8-.78.8-2.07 0-2.86zM5.41 20L4 18.59l7.72-7.72 1.47 1.35L5.41 20z\"/>\n",
              "  </svg>\n",
              "      </button>\n",
              "      \n",
              "  <style>\n",
              "    .colab-df-container {\n",
              "      display:flex;\n",
              "      flex-wrap:wrap;\n",
              "      gap: 12px;\n",
              "    }\n",
              "\n",
              "    .colab-df-convert {\n",
              "      background-color: #E8F0FE;\n",
              "      border: none;\n",
              "      border-radius: 50%;\n",
              "      cursor: pointer;\n",
              "      display: none;\n",
              "      fill: #1967D2;\n",
              "      height: 32px;\n",
              "      padding: 0 0 0 0;\n",
              "      width: 32px;\n",
              "    }\n",
              "\n",
              "    .colab-df-convert:hover {\n",
              "      background-color: #E2EBFA;\n",
              "      box-shadow: 0px 1px 2px rgba(60, 64, 67, 0.3), 0px 1px 3px 1px rgba(60, 64, 67, 0.15);\n",
              "      fill: #174EA6;\n",
              "    }\n",
              "\n",
              "    [theme=dark] .colab-df-convert {\n",
              "      background-color: #3B4455;\n",
              "      fill: #D2E3FC;\n",
              "    }\n",
              "\n",
              "    [theme=dark] .colab-df-convert:hover {\n",
              "      background-color: #434B5C;\n",
              "      box-shadow: 0px 1px 3px 1px rgba(0, 0, 0, 0.15);\n",
              "      filter: drop-shadow(0px 1px 2px rgba(0, 0, 0, 0.3));\n",
              "      fill: #FFFFFF;\n",
              "    }\n",
              "  </style>\n",
              "\n",
              "      <script>\n",
              "        const buttonEl =\n",
              "          document.querySelector('#df-2867dad6-41e6-4dc7-be55-dd8c8f66a1fa button.colab-df-convert');\n",
              "        buttonEl.style.display =\n",
              "          google.colab.kernel.accessAllowed ? 'block' : 'none';\n",
              "\n",
              "        async function convertToInteractive(key) {\n",
              "          const element = document.querySelector('#df-2867dad6-41e6-4dc7-be55-dd8c8f66a1fa');\n",
              "          const dataTable =\n",
              "            await google.colab.kernel.invokeFunction('convertToInteractive',\n",
              "                                                     [key], {});\n",
              "          if (!dataTable) return;\n",
              "\n",
              "          const docLinkHtml = 'Like what you see? Visit the ' +\n",
              "            '<a target=\"_blank\" href=https://colab.research.google.com/notebooks/data_table.ipynb>data table notebook</a>'\n",
              "            + ' to learn more about interactive tables.';\n",
              "          element.innerHTML = '';\n",
              "          dataTable['output_type'] = 'display_data';\n",
              "          await google.colab.output.renderOutput(dataTable, element);\n",
              "          const docLink = document.createElement('div');\n",
              "          docLink.innerHTML = docLinkHtml;\n",
              "          element.appendChild(docLink);\n",
              "        }\n",
              "      </script>\n",
              "    </div>\n",
              "  </div>\n",
              "  "
            ]
          },
          "metadata": {},
          "execution_count": 4
        }
      ]
    },
    {
      "cell_type": "code",
      "source": [],
      "metadata": {
        "id": "trO7zDScCNKW"
      },
      "execution_count": null,
      "outputs": []
    },
    {
      "cell_type": "code",
      "source": [
        "reviews['text'][9996]"
      ],
      "metadata": {
        "id": "EUF0eFxb3rS4",
        "colab": {
          "base_uri": "https://localhost:8080/",
          "height": 232
        },
        "outputId": "a74f4bae-2786-4daf-8f7d-cb9a01be9871"
      },
      "execution_count": 5,
      "outputs": [
        {
          "output_type": "execute_result",
          "data": {
            "text/plain": [
              "'Should be called house of deliciousness!\\n\\nI could go on and on about this item, that item, blah blah blah but I dont really waznt to. This is good food, done creatively, and in my mind presented in a casual yet sophisticated manner without any pretensiousness. The chef here creates inspirational dishes that seem to meld asian and southwestern flavors seemlessly. Ok so now I realize this are not all real words but after eating here and developing a drunken state of mind who really cares anyhow?\\n\\nThe lowdown is the food is good and priced fair for what you get. Our service was great and on top of everything we truly had an amazing time on a rainy Saturday evening. Next time hopefully we can enjoy the killer outdoor bar and patio seating.\\nI cant wait to go back and eat our way through the new menu.\\n\\nThe custom cocktails were delightful and the wine list is pretty spot on.'"
            ],
            "application/vnd.google.colaboratory.intrinsic+json": {
              "type": "string"
            }
          },
          "metadata": {},
          "execution_count": 5
        }
      ]
    },
    {
      "cell_type": "code",
      "source": [
        "reviews['stars'].value_counts()"
      ],
      "metadata": {
        "id": "-AMGfJWz3yfY",
        "colab": {
          "base_uri": "https://localhost:8080/"
        },
        "outputId": "a653e2aa-9a26-407d-c1d3-2d389732573e"
      },
      "execution_count": 6,
      "outputs": [
        {
          "output_type": "execute_result",
          "data": {
            "text/plain": [
              "4    3526\n",
              "5    3337\n",
              "3    1461\n",
              "2     927\n",
              "1     749\n",
              "Name: stars, dtype: int64"
            ]
          },
          "metadata": {},
          "execution_count": 6
        }
      ]
    },
    {
      "cell_type": "code",
      "source": [
        "reviews['stars'].value_counts().plot(kind='bar')"
      ],
      "metadata": {
        "id": "ctkYbZlo4n-K",
        "colab": {
          "base_uri": "https://localhost:8080/",
          "height": 280
        },
        "outputId": "d192eae8-84c4-4767-ed9a-aa5763507628"
      },
      "execution_count": 7,
      "outputs": [
        {
          "output_type": "execute_result",
          "data": {
            "text/plain": [
              "<Axes: >"
            ]
          },
          "metadata": {},
          "execution_count": 7
        },
        {
          "output_type": "display_data",
          "data": {
            "text/plain": [
              "<Figure size 432x288 with 1 Axes>"
            ],
            "image/png": "[encoded data removed]"
          },
          "metadata": {
            "needs_background": "light"
          }
        }
      ]
    },
    {
      "cell_type": "code",
      "source": [
        "# reviews.drop(reviews[reviews.stars == 3].index, inplace=True)"
      ],
      "metadata": {
        "id": "LqiP8ofixIPe"
      },
      "execution_count": 8,
      "outputs": []
    },
    {
      "cell_type": "code",
      "source": [
        "reviews['stars'].value_counts().plot(kind='bar')"
      ],
      "metadata": {
        "id": "HMd3F1WDxXg_",
        "colab": {
          "base_uri": "https://localhost:8080/",
          "height": 280
        },
        "outputId": "7c2c21f6-3870-4430-e16e-69dba87eebe5"
      },
      "execution_count": 11,
      "outputs": [
        {
          "output_type": "execute_result",
          "data": {
            "text/plain": [
              "<Axes: >"
            ]
          },
          "metadata": {},
          "execution_count": 11
        },
        {
          "output_type": "display_data",
          "data": {
            "text/plain": [
              "<Figure size 432x288 with 1 Axes>"
            ],
            "image/png": "[encoded data removed]"
          },
          "metadata": {
            "needs_background": "light"
          }
        }
      ]
    },
    {
      "cell_type": "markdown",
      "source": [
        "all stars 4 and 5 are positive, others are negative\n"
      ],
      "metadata": {
        "id": "qmWvc0QJZQbp"
      }
    },
    {
      "cell_type": "code",
      "source": [
        "reviews['stars'] = np.where(reviews['stars'] >= 4, 1, 0)"
      ],
      "metadata": {
        "id": "lDowBXHgWfUk"
      },
      "execution_count": 12,
      "outputs": []
    },
    {
      "cell_type": "code",
      "source": [
        "reviews['stars'].value_counts().plot(kind='bar')"
      ],
      "metadata": {
        "id": "OyH1TGJjZEij",
        "colab": {
          "base_uri": "https://localhost:8080/",
          "height": 280
        },
        "outputId": "f400ce06-3877-433d-febd-29b7848f5e1f"
      },
      "execution_count": 13,
      "outputs": [
        {
          "output_type": "execute_result",
          "data": {
            "text/plain": [
              "<Axes: >"
            ]
          },
          "metadata": {},
          "execution_count": 13
        },
        {
          "output_type": "display_data",
          "data": {
            "text/plain": [
              "<Figure size 432x288 with 1 Axes>"
            ],
            "image/png": "[encoded data removed]"
          },
          "metadata": {
            "needs_background": "light"
          }
        }
      ]
    },
    {
      "cell_type": "markdown",
      "source": [
        "removing some items to make 6000 positive reviews\n"
      ],
      "metadata": {
        "id": "3SSMU68SZZi4"
      }
    },
    {
      "cell_type": "code",
      "source": [
        "reviews['stars'].value_counts()"
      ],
      "metadata": {
        "id": "90jVft7gYRhM",
        "colab": {
          "base_uri": "https://localhost:8080/"
        },
        "outputId": "9473fae7-6fd8-4a30-e9e3-c53d61ad0ae2"
      },
      "execution_count": 14,
      "outputs": [
        {
          "output_type": "execute_result",
          "data": {
            "text/plain": [
              "1    6863\n",
              "0    3137\n",
              "Name: stars, dtype: int64"
            ]
          },
          "metadata": {},
          "execution_count": 14
        }
      ]
    },
    {
      "cell_type": "code",
      "source": [
        "reviews = reviews.drop(reviews[reviews.stars == 1].iloc[:863].index)"
      ],
      "metadata": {
        "id": "xXDW-qvxZxVs"
      },
      "execution_count": 15,
      "outputs": []
    },
    {
      "cell_type": "code",
      "source": [
        "#sns.countplot(reviews['stars'])"
      ],
      "metadata": {
        "id": "cROciKm_YvLY"
      },
      "execution_count": null,
      "outputs": []
    },
    {
      "cell_type": "code",
      "source": [
        "max_features = 6000\n",
        "# we will use the Tokenizer class: create a word-to-index dictionary. In the word-to-index dictionary\n",
        "tokenizer = Tokenizer(num_words=max_features, split = ' ')\n",
        "\n",
        "#tokenizer = Tokenizer(num_words=1000, lower = True)\n",
        "tokenizer.fit_on_texts(reviews['text'].values)\n",
        "\n",
        "#to convert sentences into vector /numbers\n",
        "x = tokenizer.texts_to_sequences(reviews['text'].values)\n",
        "x = pad_sequences(x)\n",
        "\n",
        "y = reviews['stars']"
      ],
      "metadata": {
        "id": "TkD_4G5YYNKz"
      },
      "execution_count": 16,
      "outputs": []
    },
    {
      "cell_type": "code",
      "source": [
        "#maxlen= 100\n",
        "#x = pad_sequences(x,padding='post', maxlen=maxlen)\n",
        "#print(x[3,:])"
      ],
      "metadata": {
        "id": "WvdCkPJdU2CJ"
      },
      "execution_count": null,
      "outputs": []
    },
    {
      "cell_type": "code",
      "source": [
        "x_train, x_test, y_train, y_test = train_test_split(\n",
        "    x, y, test_size=0.3, random_state=42, shuffle=True\n",
        ")\n"
      ],
      "metadata": {
        "id": "m0P_xjVECB2C"
      },
      "execution_count": 17,
      "outputs": []
    },
    {
      "cell_type": "code",
      "source": [
        "print(\"shape of X_train:\", x_train.shape)\n",
        "print(\"shape of X_test:\", x_test.shape)"
      ],
      "metadata": {
        "id": "6TTu96yHCFUB",
        "colab": {
          "base_uri": "https://localhost:8080/"
        },
        "outputId": "fd001a4b-b737-43ac-dde2-73286eb4a594"
      },
      "execution_count": 18,
      "outputs": [
        {
          "output_type": "stream",
          "name": "stdout",
          "text": [
            "shape of X_train: (6395, 927)\n",
            "shape of X_test: (2742, 927)\n"
          ]
        }
      ]
    },
    {
      "cell_type": "code",
      "source": [
        "print(x_train[0])"
      ],
      "metadata": {
        "id": "yNg3pSp7PbnG",
        "colab": {
          "base_uri": "https://localhost:8080/"
        },
        "outputId": "fbf58625-6d82-48f4-a864-7534d992f14e"
      },
      "execution_count": 19,
      "outputs": [
        {
          "output_type": "stream",
          "name": "stdout",
          "text": [
            "[   0    0    0    0    0    0    0    0    0    0    0    0    0    0\n",
            "    0    0    0    0    0    0    0    0    0    0    0    0    0    0\n",
            "    0    0    0    0    0    0    0    0    0    0    0    0    0    0\n",
            "    0    0    0    0    0    0    0    0    0    0    0    0    0    0\n",
            "    0    0    0    0    0    0    0    0    0    0    0    0    0    0\n",
            "    0    0    0    0    0    0    0    0    0    0    0    0    0    0\n",
            "    0    0    0    0    0    0    0    0    0    0    0    0    0    0\n",
            "    0    0    0    0    0    0    0    0    0    0    0    0    0    0\n",
            "    0    0    0    0    0    0    0    0    0    0    0    0    0    0\n",
            "    0    0    0    0    0    0    0    0    0    0    0    0    0    0\n",
            "    0    0    0    0    0    0    0    0    0    0    0    0    0    0\n",
            "    0    0    0    0    0    0    0    0    0    0    0    0    0    0\n",
            "    0    0    0    0    0    0    0    0    0    0    0    0    0    0\n",
            "    0    0    0    0    0    0    0    0    0    0    0    0    0    0\n",
            "    0    0    0    0    0    0    0    0    0    0    0    0    0    0\n",
            "    0    0    0    0    0    0    0    0    0    0    0    0    0    0\n",
            "    0    0    0    0    0    0    0    0    0    0    0    0    0    0\n",
            "    0    0    0    0    0    0    0    0    0    0    0    0    0    0\n",
            "    0    0    0    0    0    0    0    0    0    0    0    0    0    0\n",
            "    0    0    0    0    0    0    0    0    0    0    0    0    0    0\n",
            "    0    0    0    0    0    0    0    0    0    0    0    0    0    0\n",
            "    0    0    0    0    0    0    0    0    0    0    0    0    0    0\n",
            "    0    0    0    0    0    0    0    0    0    0    0    0    0    0\n",
            "    0    0    0    0    0    0    0    0    0    0    0    0    0    0\n",
            "    0    0    0    0    0    0    0    0    0    0    0    0    0    0\n",
            "    0    0    0    0    0    0    0    0    0    0    0    0    0    0\n",
            "    0    0    0    0    0    0    0    0    0    0    0    0    0    0\n",
            "    0    0    0    0    0    0    0    0    0    0    0    0    0    0\n",
            "    0    0    0    0    0    0    0    0    0    0    0    0    0    0\n",
            "    0    0    0    0    0    0    0    0    0    0    0    0    0    0\n",
            "    0    0    0    0    0    0    0    0    0    0    0    0    0    0\n",
            "    0    0    0    0    0    0    0    0    0    0    0    0    0    0\n",
            "    0    0    0    0    0    0    0    0    0    0    0    0    0    0\n",
            "    0    0    0    0    0    0    0    0    0    0    0    0    0    0\n",
            "    0    0    0    0    0    0    0    0    0    0    0    0    0    0\n",
            "    0    0    0    0    0    0    0    0    0    0    0    0    0    0\n",
            "    0    0    0    0    0    0    0    0    0    0    0    0    0    0\n",
            "    0    0    0    0    0    0    0    0    0    0    0    0    0    0\n",
            "    0    0    0    0    0    0    0    0    0    0    0    0    0    0\n",
            "    0    0    0    0    0    0    0    0    0    0    0    0    0    0\n",
            "    0    0    0    0    0    0    0    0    0    0    0    0    0    0\n",
            "    0    0    0    0    0    0    0    0    0    0    0    0    0    0\n",
            "    0    0    0    0    0    0    0    0    0    0    0    0    0    0\n",
            "    0    0    0    0    0    0    0    0    0    0    0    0    0    0\n",
            "    0    0    0    0    0    0    0    0    0    0    0    0    0    0\n",
            "    0    0    0    0    0    0    0    0    0    0    0    0    0    0\n",
            "    0    0    0    0    0    0    0    0    0    0    0    0    0    0\n",
            "    0    0    0    0    0    0    0    0    0    0    0    0    0    0\n",
            "    0    0    0    0    0    0    0    0    0    0    0    0    0    0\n",
            "    0    0    0    0    0    0    0    0    0    0    0    0    0    0\n",
            "    0    0    0    0    0    0    0    0    0    0    0    0    0    0\n",
            "    0    0    0    0    0    0    0    0    0    0    0    0    0    0\n",
            "    0    0    0    0    0    0    0    0    0    0    0    0    0    0\n",
            "    0    0    0    0    0    0    0    0    0    0    0    0    0    0\n",
            "    0    0    0    0    0    0    0    0    0    0    0    0    0    0\n",
            "    0    0    0    0    0    0    0    0    0    0    0    0    0    0\n",
            "    0    0    0    0    0    0    0    0    0    0    0    0    0    0\n",
            "    0    0    0    0    0    0    0    0    0    0    0    0    0    0\n",
            "    0    0    0    0    0    0    0    0    0    0    0    0    0    0\n",
            "    0    0    0    0    0    0    0    0    0    0    0    0    0    0\n",
            "    0    0    0    0    0    0    0    0    0    0    0    0    0    0\n",
            "    0    0    0    0    0    0    0    0    0    0    0    0    0    0\n",
            "    0    0    0    0    0    0    0    3  114   33   15    4  279  192\n",
            "  414   91 1028   26  179   25  369    1   57    9   25   20  105   21\n",
            "    5  161   14    3  105   34    1   29    3   98    3   23    4  790\n",
            "   15  621  144    1  357    9   22  149   28   37    2    1   29    9\n",
            "   73   10   38]\n"
          ]
        }
      ]
    },
    {
      "cell_type": "code",
      "source": [
        "print(\"shape of y_train:\", y_train.shape)\n",
        "print(\"shape of y_test:\", y_test.shape)"
      ],
      "metadata": {
        "id": "UuzGoJmeDlbh",
        "colab": {
          "base_uri": "https://localhost:8080/"
        },
        "outputId": "162a7d01-17be-401d-e2bc-4800f3f34df5"
      },
      "execution_count": 20,
      "outputs": [
        {
          "output_type": "stream",
          "name": "stdout",
          "text": [
            "shape of y_train: (6395,)\n",
            "shape of y_test: (2742,)\n"
          ]
        }
      ]
    },
    {
      "cell_type": "code",
      "source": [
        "#Create RNN model\n",
        "embed_dim = 128\n",
        "lstm_out = 196\n",
        "model = tf.keras.models.Sequential()\n",
        "model.add(tf.keras.layers.Embedding(max_features, 128, input_length=x_train.shape[1]))\n",
        "model.add(tf.keras.layers.SpatialDropout1D(0.5))\n",
        "model.add(tf.keras.layers.LSTM(196))\n",
        "model.add(tf.keras.layers.Dropout(0.2))\n",
        "model.add(tf.keras.layers.Dense(100, activation = tf.nn.relu))\n",
        "model.add(tf.keras.layers.Dropout(0.4))\n",
        "model.add(tf.keras.layers.Dense(2, activation = tf.nn.softmax))\n",
        "  "
      ],
      "metadata": {
        "id": "0j7UgV4pXdgz"
      },
      "execution_count": 21,
      "outputs": []
    },
    {
      "cell_type": "code",
      "source": [
        "model.summary()\n"
      ],
      "metadata": {
        "id": "4H6dGZ7LZdAB",
        "colab": {
          "base_uri": "https://localhost:8080/"
        },
        "outputId": "ca492e18-9367-464b-8193-30b8cd91beab"
      },
      "execution_count": 22,
      "outputs": [
        {
          "output_type": "stream",
          "name": "stdout",
          "text": [
            "Model: \"sequential\"\n",
            "_________________________________________________________________\n",
            " Layer (type)                Output Shape              Param #   \n",
            "=================================================================\n",
            " embedding (Embedding)       (None, 927, 128)          768000    \n",
            "                                                                 \n",
            " spatial_dropout1d (SpatialD  (None, 927, 128)         0         \n",
            " ropout1D)                                                       \n",
            "                                                                 \n",
            " lstm (LSTM)                 (None, 196)               254800    \n",
            "                                                                 \n",
            " dropout (Dropout)           (None, 196)               0         \n",
            "                                                                 \n",
            " dense (Dense)               (None, 100)               19700     \n",
            "                                                                 \n",
            " dropout_1 (Dropout)         (None, 100)               0         \n",
            "                                                                 \n",
            " dense_1 (Dense)             (None, 2)                 202       \n",
            "                                                                 \n",
            "=================================================================\n",
            "Total params: 1,042,702\n",
            "Trainable params: 1,042,702\n",
            "Non-trainable params: 0\n",
            "_________________________________________________________________\n"
          ]
        }
      ]
    },
    {
      "cell_type": "code",
      "source": [
        "model.compile(optimizer=\"adam\", loss=\"sparse_categorical_crossentropy\", metrics=[\"accuracy\"])"
      ],
      "metadata": {
        "id": "v4VTgV5LJVtK"
      },
      "execution_count": 23,
      "outputs": []
    },
    {
      "cell_type": "code",
      "source": [
        "model.fit(x_train, y_train, epochs=10 , batch_size=32, validation_split = 0.2, verbose = 2)"
      ],
      "metadata": {
        "id": "bzjfPvPsZpCm",
        "colab": {
          "base_uri": "https://localhost:8080/"
        },
        "outputId": "c1268a85-6f2d-4e10-f90c-8575554d71e8"
      },
      "execution_count": 24,
      "outputs": [
        {
          "output_type": "stream",
          "name": "stdout",
          "text": [
            "Epoch 1/10\n",
            "160/160 - 36s - loss: 0.6134 - accuracy: 0.6755 - val_loss: 0.5422 - val_accuracy: 0.7357 - 36s/epoch - 227ms/step\n",
            "Epoch 2/10\n",
            "160/160 - 21s - loss: 0.4562 - accuracy: 0.7903 - val_loss: 0.4673 - val_accuracy: 0.7905 - 21s/epoch - 130ms/step\n",
            "Epoch 3/10\n",
            "160/160 - 17s - loss: 0.3232 - accuracy: 0.8651 - val_loss: 0.4449 - val_accuracy: 0.7967 - 17s/epoch - 103ms/step\n",
            "Epoch 4/10\n",
            "160/160 - 15s - loss: 0.2343 - accuracy: 0.9083 - val_loss: 0.5343 - val_accuracy: 0.8225 - 15s/epoch - 95ms/step\n",
            "Epoch 5/10\n",
            "160/160 - 12s - loss: 0.1476 - accuracy: 0.9453 - val_loss: 0.5952 - val_accuracy: 0.7952 - 12s/epoch - 78ms/step\n",
            "Epoch 6/10\n",
            "160/160 - 11s - loss: 0.1321 - accuracy: 0.9517 - val_loss: 0.6444 - val_accuracy: 0.7959 - 11s/epoch - 67ms/step\n",
            "Epoch 7/10\n",
            "160/160 - 11s - loss: 0.0950 - accuracy: 0.9644 - val_loss: 0.6975 - val_accuracy: 0.7850 - 11s/epoch - 67ms/step\n",
            "Epoch 8/10\n",
            "160/160 - 8s - loss: 0.0510 - accuracy: 0.9840 - val_loss: 0.8543 - val_accuracy: 0.7881 - 8s/epoch - 53ms/step\n",
            "Epoch 9/10\n",
            "160/160 - 10s - loss: 0.0479 - accuracy: 0.9820 - val_loss: 1.0049 - val_accuracy: 0.8053 - 10s/epoch - 65ms/step\n",
            "Epoch 10/10\n",
            "160/160 - 9s - loss: 0.0518 - accuracy: 0.9830 - val_loss: 0.8871 - val_accuracy: 0.7826 - 9s/epoch - 54ms/step\n"
          ]
        },
        {
          "output_type": "execute_result",
          "data": {
            "text/plain": [
              "<keras.callbacks.History at 0x7f5f8b7e4550>"
            ]
          },
          "metadata": {},
          "execution_count": 24
        }
      ]
    },
    {
      "cell_type": "code",
      "source": [
        "history = model.history\n",
        "print(history.history['loss'])"
      ],
      "metadata": {
        "id": "-w2SYVlvE2-y",
        "colab": {
          "base_uri": "https://localhost:8080/"
        },
        "outputId": "0e3c65c5-0c96-46bd-8ea8-c36624de7c2e"
      },
      "execution_count": 25,
      "outputs": [
        {
          "output_type": "stream",
          "name": "stdout",
          "text": [
            "[0.6134002208709717, 0.45624256134033203, 0.32324928045272827, 0.23425348103046417, 0.14764617383480072, 0.13210996985435486, 0.0950474739074707, 0.050991736352443695, 0.0478949174284935, 0.051849156618118286]\n"
          ]
        }
      ]
    },
    {
      "cell_type": "code",
      "source": [],
      "metadata": {
        "id": "_-zNfw4GPwjx"
      },
      "execution_count": null,
      "outputs": []
    },
    {
      "cell_type": "code",
      "source": [
        "#To plot the accuracy graph \n",
        "acc = history.history['accuracy']\n",
        "epochs = range(1,len(acc)+1)\n",
        "plt.plot(epochs, acc, 'b', label = 'Accuracy')\n",
        "plt.title('Accuracy Graph')\n",
        "plt.xlabel('Epochs')\n",
        "plt.ylabel('Accuracy')\n",
        "plt.legend()\n",
        "plt.show()"
      ],
      "metadata": {
        "id": "Euv55qBfHHrA",
        "colab": {
          "base_uri": "https://localhost:8080/",
          "height": 295
        },
        "outputId": "6cb35d5d-9351-471f-aecd-921a955b7b09"
      },
      "execution_count": 26,
      "outputs": [
        {
          "output_type": "display_data",
          "data": {
            "text/plain": [
              "<Figure size 432x288 with 1 Axes>"
            ],
            "image/png": "[encoded data removed]"
          },
          "metadata": {
            "needs_background": "light"
          }
        }
      ]
    },
    {
      "cell_type": "code",
      "source": [
        "#To plot the Loss graph \n",
        "loss = history.history['loss']\n",
        "epochs = range(1,len(loss)+1)\n",
        "plt.plot(epochs, loss, 'r', label = 'Loss')\n",
        "plt.title('Loss Graph')\n",
        "plt.xlabel('Epochs')\n",
        "plt.ylabel('Loss')\n",
        "plt.legend()\n",
        "plt.show()"
      ],
      "metadata": {
        "id": "hrCKJ62sKAEw",
        "colab": {
          "base_uri": "https://localhost:8080/",
          "height": 295
        },
        "outputId": "8baf44b8-447d-48a3-d367-957eeb1a0d36"
      },
      "execution_count": 27,
      "outputs": [
        {
          "output_type": "display_data",
          "data": {
            "text/plain": [
              "<Figure size 432x288 with 1 Axes>"
            ],
            "image/png": "[encoded data removed]"
          },
          "metadata": {
            "needs_background": "light"
          }
        }
      ]
    },
    {
      "cell_type": "code",
      "source": [
        "#To plot the val_Loss graph \n",
        "val_loss = history.history['val_loss']\n",
        "epochs = range(1,len(val_loss)+1)\n",
        "plt.plot(epochs, val_loss, 'r', label = 'Value_Loss')\n",
        "plt.title('Value_Loss Graph')\n",
        "plt.xlabel('Epochs')\n",
        "plt.ylabel('val_Loss')\n",
        "plt.legend()\n",
        "plt.show()\n",
        "print(history.history['val_loss'])"
      ],
      "metadata": {
        "id": "iCq0JY9FKH3Y",
        "colab": {
          "base_uri": "https://localhost:8080/",
          "height": 333
        },
        "outputId": "214c18c0-75b8-48e5-843d-b9239edd8d18"
      },
      "execution_count": 28,
      "outputs": [
        {
          "output_type": "display_data",
          "data": {
            "text/plain": [
              "<Figure size 432x288 with 1 Axes>"
            ],
            "image/png": "[encoded data removed]"
          },
          "metadata": {
            "needs_background": "light"
          }
        },
        {
          "output_type": "stream",
          "name": "stdout",
          "text": [
            "[0.5422437191009521, 0.4672549366950989, 0.4448891282081604, 0.5342787504196167, 0.5952374339103699, 0.6444258093833923, 0.6975147724151611, 0.8542501330375671, 1.0048577785491943, 0.8870506882667542]\n"
          ]
        }
      ]
    },
    {
      "cell_type": "code",
      "source": [
        "\n",
        "#To plot the Loss graph \n",
        "val_acc = history.history['val_accuracy']\n",
        "epochs = range(1,len(val_acc)+1)\n",
        "plt.plot(epochs, val_acc, 'g', label = 'val_acc')\n",
        "plt.title('Value Accuracy')\n",
        "plt.xlabel('Epochs')\n",
        "plt.ylabel('val_acc')\n",
        "plt.legend()\n",
        "plt.show()\n",
        "print(history.history['val_accuracy'])"
      ],
      "metadata": {
        "id": "KcnyxfVHQ7s0",
        "colab": {
          "base_uri": "https://localhost:8080/",
          "height": 333
        },
        "outputId": "2382dac3-ea4f-4ef4-8e85-eafbb2f67ec3"
      },
      "execution_count": 29,
      "outputs": [
        {
          "output_type": "display_data",
          "data": {
            "text/plain": [
              "<Figure size 432x288 with 1 Axes>"
            ],
            "image/png": "[encoded data removed]"
          },
          "metadata": {
            "needs_background": "light"
          }
        },
        {
          "output_type": "stream",
          "name": "stdout",
          "text": [
            "[0.7357310652732849, 0.7904613018035889, 0.7967162132263184, 0.8225175738334656, 0.795152485370636, 0.7959343194961548, 0.784988284111023, 0.7881157398223877, 0.8053166270256042, 0.782642662525177]\n"
          ]
        }
      ]
    },
    {
      "cell_type": "code",
      "source": [
        "#To test the accuracy score\n",
        "\n",
        "y_pred = model.predict(x_test)\n",
        "y_pred_classes = np.argmax(y_pred, axis=1)\n",
        "print('Accuracy Score', accuracy_score(y_test, y_pred_classes))"
      ],
      "metadata": {
        "id": "XNc2n78GcgZq",
        "colab": {
          "base_uri": "https://localhost:8080/"
        },
        "outputId": "61a15332-a7a0-4602-f9e2-c0c4f0dc2462"
      },
      "execution_count": 30,
      "outputs": [
        {
          "output_type": "stream",
          "name": "stdout",
          "text": [
            "86/86 [==============================] - 2s 18ms/step\n",
            "Accuracy Score 0.7676878191101386\n"
          ]
        }
      ]
    },
    {
      "cell_type": "code",
      "source": [
        "#Testing model on new input\n",
        "sample = \"Should be called house of deliciousness!\\n\\nI could go on and on about this item, that item, blah blah blah but I dont really waznt to. This is good food, done creatively,\"\\\n",
        " \"and in my mind presented in a casual yet sophisticated manner without any pretensiousness. The chef here creates inspirational dishes that seem to meld asian and southwestern flavors seemlessly.\"\\\n",
        " \"Ok so now I realize this are not all real words but after eating here and developing a drunken state of mind who really cares anyhow?\\n\\nThe lowdown is the food is good and priced fair for what you get.\"\\\n",
        "   \"Our service was great and on top of everything we truly had an amazing time on a rainy Saturday evening. Next time hopefully we can enjoy the killer outdoor\"\\\n",
        " \"bar and patio seating.\\nI cant wait to go back and eat our way through the new menu.\\n\\nThe custom cocktails were delightful and the wine list is pretty spot on\"\n",
        "\n",
        "sample_item = [sample]\n",
        "sample_item = tokenizer.texts_to_sequences(sample_item)\n",
        "sample_item = pad_sequences(sample_item, maxlen=len(sample) + 1)\n",
        "\n",
        "print(sample_item)\n",
        "sentiment = model.predict(sample_item,batch_size=1,verbose = 2)[0]\n",
        "\n",
        "if(np.argmax(sentiment) == 0):\n",
        "    print(\"negative\")\n",
        "elif (np.argmax(sentiment) == 1):\n",
        "    print(\"positive\")\n"
      ],
      "metadata": {
        "id": "c5NVzPDweeMd",
        "colab": {
          "base_uri": "https://localhost:8080/"
        },
        "outputId": "891db284-8d7a-4378-c15f-0e8495fd1b18"
      },
      "execution_count": 31,
      "outputs": [
        {
          "output_type": "stream",
          "name": "stdout",
          "text": [
            "[[   0    0    0    0    0    0    0    0    0    0    0    0    0    0\n",
            "     0    0    0    0    0    0    0    0    0    0    0    0    0    0\n",
            "     0    0    0    0    0    0    0    0    0    0    0    0    0    0\n",
            "     0    0    0    0    0    0    0    0    0    0    0    0    0    0\n",
            "     0    0    0    0    0    0    0    0    0    0    0    0    0    0\n",
            "     0    0    0    0    0    0    0    0    0    0    0    0    0    0\n",
            "     0    0    0    0    0    0    0    0    0    0    0    0    0    0\n",
            "     0    0    0    0    0    0    0    0    0    0    0    0    0    0\n",
            "     0    0    0    0    0    0    0    0    0    0    0    0    0    0\n",
            "     0    0    0    0    0    0    0    0    0    0    0    0    0    0\n",
            "     0    0    0    0    0    0    0    0    0    0    0    0    0    0\n",
            "     0    0    0    0    0    0    0    0    0    0    0    0    0    0\n",
            "     0    0    0    0    0    0    0    0    0    0    0    0    0    0\n",
            "     0    0    0    0    0    0    0    0    0    0    0    0    0    0\n",
            "     0    0    0    0    0    0    0    0    0    0    0    0    0    0\n",
            "     0    0    0    0    0    0    0    0    0    0    0    0    0    0\n",
            "     0    0    0    0    0    0    0    0    0    0    0    0    0    0\n",
            "     0    0    0    0    0    0    0    0    0    0    0    0    0    0\n",
            "     0    0    0    0    0    0    0    0    0    0    0    0    0    0\n",
            "     0    0    0    0    0    0    0    0    0    0    0    0    0    0\n",
            "     0    0    0    0    0    0    0    0    0    0    0    0    0    0\n",
            "     0    0    0    0    0    0    0    0    0    0    0    0    0    0\n",
            "     0    0    0    0    0    0    0    0    0    0    0    0    0    0\n",
            "     0    0    0    0    0    0    0    0    0    0    0    0    0    0\n",
            "     0    0    0    0    0    0    0    0    0    0    0    0    0    0\n",
            "     0    0    0    0    0    0    0    0    0    0    0    0    0    0\n",
            "     0    0    0    0    0    0    0    0    0    0    0    0    0    0\n",
            "     0    0    0    0    0    0    0    0    0    0    0    0    0    0\n",
            "     0    0    0    0    0    0    0    0    0    0    0    0    0    0\n",
            "     0    0    0    0    0    0    0    0    0    0    0    0    0    0\n",
            "     0    0    0    0    0    0    0    0    0    0    0    0    0    0\n",
            "     0    0    0    0    0    0    0    0    0    0    0    0    0    0\n",
            "     0    0    0    0    0    0    0    0    0    0    0    0    0    0\n",
            "     0    0    0    0    0    0    0    0    0    0    0    0    0    0\n",
            "     0    0    0    0    0    0    0    0    0    0    0    0    0    0\n",
            "     0    0    0    0    0    0    0    0    0    0    0    0    0    0\n",
            "     0    0    0    0    0    0    0    0    0    0    0    0    0    0\n",
            "     0    0    0    0    0    0    0    0    0    0    0    0    0    0\n",
            "     0    0    0    0    0    0    0    0    0    0    0    0    0    0\n",
            "     0    0    0    0    0    0    0    0    0    0    0    0    0    0\n",
            "     0    0    0    0    0    0    0    0    0    0    0    0    0    0\n",
            "     0    0    0    0    0    0    0    0    0    0    0    0    0    0\n",
            "     0    0    0    0    0    0    0    0    0    0    0    0    0    0\n",
            "     0    0    0    0    0    0    0    0    0    0    0    0    0    0\n",
            "     0    0    0    0    0    0    0    0    0    0    0    0    0    0\n",
            "     0    0    0    0    0    0    0    0    0    0    0    0    0    0\n",
            "     0    0    0    0    0    0    0    0    0    0    0    0    0    0\n",
            "     0    0    0    0    0    0    0    0    0    0    0    0    0    0\n",
            "     0    0    0    0    0    0    0    0    0    0    0    0    0    0\n",
            "     0    0    0    0    0    0    0    0    0    0    0    0    0    0\n",
            "     0    0    0    0    0    0    0    0    0    0    0    0    0    0\n",
            "     0    0    0    0    0    0    0    0    0    0    0    0    0    0\n",
            "   232   32  436  286    6 4639    3  111   50   18    2   18   55   16\n",
            "   820   12  820 1763 1763 1763   14    3 1136   53    5   16    9   25\n",
            "    29  411    2   11   13  538 2291   11    4  915  402 2751  321  135\n",
            "     1  660   42  335   12  497    5  781    2 2752  544  228   26  140\n",
            "     3 1343   16   24   22   37  422 1491   14   91  347   42    2    4\n",
            "  3062 1566    6  538  124   53 2209 3630    1    9    1   29    9   25\n",
            "     2  528  834   10   59   17   46   54   57    7   35    2   18  289\n",
            "     6  168   20  807   23   60  181   51   18    4 5271  546  664  169\n",
            "    51 1696   20   64  311    1 2079    2  331  526    3 1884  161    5\n",
            "    50   63    2  154   54  121  330    1  146  100    1 2971 1418   30\n",
            "  1917    2    1  224  524    9   94  306   18]]\n",
            "1/1 - 0s - 359ms/epoch - 359ms/step\n",
            "positive\n"
          ]
        }
      ]
    },
    {
      "cell_type": "code",
      "source": [
        "#Testing model on new input\n",
        "#sample = \" this service is mad\"\n",
        "sample = \"the food is very bad\" \n",
        "sample_item = [sample]\n",
        "sample_item = tokenizer.texts_to_sequences(sample_item)\n",
        "sample_item = pad_sequences(sample_item, maxlen=len(sample) + 1)\n",
        "\n",
        "print(sample_item)\n",
        "sentiment = model.predict(sample_item,batch_size=1,verbose = 2)[0]\n",
        "\n",
        "if(np.argmax(sentiment) == 0):\n",
        "    print(\"negative\")\n",
        "elif (np.argmax(sentiment) == 1):\n",
        "    print(\"positive\")\n"
      ],
      "metadata": {
        "id": "fZ5coEPF0IpJ",
        "colab": {
          "base_uri": "https://localhost:8080/"
        },
        "outputId": "017c03f1-6c67-47ff-c2e1-16558d3a16fd"
      },
      "execution_count": 32,
      "outputs": [
        {
          "output_type": "stream",
          "name": "stdout",
          "text": [
            "[[  0   0   0   0   0   0   0   0   0   0   0   0   0   0   0   0   1  29\n",
            "    9  41 172]]\n",
            "1/1 - 0s - 18ms/epoch - 18ms/step\n",
            "negative\n"
          ]
        }
      ]
    },
    {
      "cell_type": "code",
      "source": [],
      "metadata": {
        "id": "NCpycIeqVxIz"
      },
      "execution_count": null,
      "outputs": []
    }
  ]
}